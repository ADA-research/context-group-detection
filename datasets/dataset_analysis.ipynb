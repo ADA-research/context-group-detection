{
 "cells": [
  {
   "cell_type": "markdown",
   "source": [
    "# Imports"
   ],
   "metadata": {
    "collapsed": false
   }
  },
  {
   "cell_type": "code",
   "execution_count": 19,
   "metadata": {
    "collapsed": true,
    "ExecuteTime": {
     "end_time": "2023-07-04T22:52:09.861386900Z",
     "start_time": "2023-07-04T22:52:09.838064400Z"
    }
   },
   "outputs": [],
   "source": [
    "from datasets.preparer import *"
   ]
  },
  {
   "cell_type": "code",
   "execution_count": 20,
   "outputs": [],
   "source": [
    "class Args:\n",
    "    def __init__(self, dataset, dataset_path, epochs, features, agents, frames, batch_size, reg, dropout, learning_rate,\n",
    "                 gmitre_calc, min_samples, max_samples):\n",
    "        self.dataset = dataset\n",
    "        self.dataset_path = dataset_path\n",
    "        self.epochs = epochs\n",
    "        self.features = features\n",
    "        self.agents = agents\n",
    "        self.frames = frames\n",
    "        self.batch_size = batch_size\n",
    "        self.reg = reg\n",
    "        self.dropout = dropout\n",
    "        self.learning_rate = learning_rate\n",
    "        self.gmitre_calc = gmitre_calc\n",
    "        self.min_samples = min_samples\n",
    "        self.max_samples = max_samples\n"
   ],
   "metadata": {
    "collapsed": false,
    "ExecuteTime": {
     "end_time": "2023-07-04T22:52:09.902074800Z",
     "start_time": "2023-07-04T22:52:09.850613600Z"
    }
   }
  },
  {
   "cell_type": "markdown",
   "source": [
    "# Datasets stats"
   ],
   "metadata": {
    "collapsed": false
   }
  },
  {
   "cell_type": "code",
   "execution_count": 21,
   "outputs": [],
   "source": [
    "datasets_dict = {\n",
    "    # 'eth': dataset_data('./ETH/seq_eth'),\n",
    "    # 'hotel': dataset_data('./ETH/seq_hotel'),\n",
    "    # 'zara01': dataset_data('./UCY/zara01'),\n",
    "    # 'zara02': dataset_data('./UCY/zara02'),\n",
    "    # 'students03': dataset_data('./UCY/students03'),\n",
    "    'sim_3': dataset_data('./simulation/sim_3', sim=True)\n",
    "}"
   ],
   "metadata": {
    "collapsed": false,
    "ExecuteTime": {
     "end_time": "2023-07-04T22:52:09.912104500Z",
     "start_time": "2023-07-04T22:52:09.867484100Z"
    }
   }
  },
  {
   "cell_type": "code",
   "execution_count": 22,
   "outputs": [
    {
     "data": {
      "text/plain": "<Figure size 595.75x500 with 1 Axes>",
      "image/png": "[encoded data removed]"
     },
     "metadata": {},
     "output_type": "display_data"
    }
   ],
   "source": [
    "groups_dict = {\n",
    "    # 'eth': read_groups('./ETH/seq_eth'),\n",
    "    # 'hotel': read_groups('./ETH/seq_hotel'),\n",
    "    # 'zara01': read_groups('./UCY/zara01'),\n",
    "    # 'zara02': read_groups('./UCY/zara02'),\n",
    "    # 'students03': read_groups('./UCY/students03'),\n",
    "    'sim_3': read_groups('./simulation/sim_3', sim=True)\n",
    "}\n",
    "groups_size_hist(groups_dict, './group_size_plot.png')"
   ],
   "metadata": {
    "collapsed": false,
    "ExecuteTime": {
     "end_time": "2023-07-04T22:52:10.200070700Z",
     "start_time": "2023-07-04T22:52:09.912104500Z"
    }
   }
  },
  {
   "cell_type": "code",
   "execution_count": 23,
   "outputs": [
    {
     "data": {
      "text/plain": "       groups  agents  frames  single agent groups  difference  duration\nsim_3      20      63     550                    0           1     549.0",
      "text/html": "<div>\n<style scoped>\n    .dataframe tbody tr th:only-of-type {\n        vertical-align: middle;\n    }\n\n    .dataframe tbody tr th {\n        vertical-align: top;\n    }\n\n    .dataframe thead th {\n        text-align: right;\n    }\n</style>\n<table border=\"1\" class=\"dataframe\">\n  <thead>\n    <tr style=\"text-align: right;\">\n      <th></th>\n      <th>groups</th>\n      <th>agents</th>\n      <th>frames</th>\n      <th>single agent groups</th>\n      <th>difference</th>\n      <th>duration</th>\n    </tr>\n  </thead>\n  <tbody>\n    <tr>\n      <th>sim_3</th>\n      <td>20</td>\n      <td>63</td>\n      <td>550</td>\n      <td>0</td>\n      <td>1</td>\n      <td>549.0</td>\n    </tr>\n  </tbody>\n</table>\n</div>"
     },
     "execution_count": 23,
     "metadata": {},
     "output_type": "execute_result"
    }
   ],
   "source": [
    "stats_df = pd.DataFrame.from_dict(datasets_dict, orient='index')\n",
    "stats_df['groups'] = stats_df['groups'].str.len()\n",
    "stats_df.drop(columns=['df'])"
   ],
   "metadata": {
    "collapsed": false,
    "ExecuteTime": {
     "end_time": "2023-07-04T22:52:10.272013300Z",
     "start_time": "2023-07-04T22:52:10.201076400Z"
    }
   }
  },
  {
   "cell_type": "code",
   "execution_count": 48,
   "outputs": [],
   "source": [
    "args = Args(\n",
    "    dataset='eth',\n",
    "    dataset_path='./datasets/ETH/seq_eth',\n",
    "    epochs=50,\n",
    "    features=4,\n",
    "    agents=6,\n",
    "    frames=1,\n",
    "    batch_size=1024,\n",
    "    reg=0.0000001,\n",
    "    dropout=0.35,\n",
    "    learning_rate=0.0001,\n",
    "    gmitre_calc=True,\n",
    "    min_samples=10,\n",
    "    max_samples=100\n",
    ")"
   ],
   "metadata": {
    "collapsed": false,
    "ExecuteTime": {
     "end_time": "2023-07-04T22:53:48.237948500Z",
     "start_time": "2023-07-04T22:53:48.232366500Z"
    }
   }
  },
  {
   "cell_type": "code",
   "execution_count": 49,
   "outputs": [],
   "source": [
    "dataset_scenes = {}\n",
    "size = {}\n",
    "steps = {\n",
    "    'sim_3': 3\n",
    "}\n",
    "min_samples = {\n",
    "    'sim_3': 10\n",
    "}\n",
    "max_samples = {\n",
    "    'sim_3': 1000\n",
    "}\n",
    "for dataset in datasets_dict.keys():\n",
    "    df = datasets_dict[dataset]['df']\n",
    "    groups = datasets_dict[dataset]['groups']\n",
    "    group_pairs = get_group_pairs(groups)\n",
    "    difference = datasets_dict[dataset]['difference']\n",
    "\n",
    "    # remove agents with low number of frames or agents\n",
    "    # df = remove_agents_and_frames_with_insufficient_data(dataframe=df, frames_threshold=args.frames,\n",
    "    #                                                      agents_threshold=args.agents)\n",
    "\n",
    "    # get frame combinations data\n",
    "    scenes = get_scene_data(dataframe=df, agents_minimum=args.agents,\n",
    "                            consecutive_frames=args.frames, difference_between_frames=difference,\n",
    "                            groups=groups, step=steps[dataset])\n",
    "\n",
    "    dataset_scenes[dataset] = scenes\n",
    "    size[dataset] = dataset_size_calculator(group_pairs=group_pairs, scene_data=scenes, agents_minimum=args.agents,\n",
    "                                            min_pair_samples=min_samples[dataset],\n",
    "                                            max_pair_samples=max_samples[dataset])"
   ],
   "metadata": {
    "collapsed": false,
    "ExecuteTime": {
     "end_time": "2023-07-04T22:53:48.749207500Z",
     "start_time": "2023-07-04T22:53:48.647347300Z"
    }
   }
  },
  {
   "cell_type": "code",
   "execution_count": 50,
   "outputs": [
    {
     "name": "stdout",
     "output_type": "stream",
     "text": [
      "dataset: sim_3, combinations: 183\n"
     ]
    }
   ],
   "source": [
    "for dataset, scenes in dataset_scenes.items():\n",
    "    print('dataset: {}, combinations: {}'.format(dataset, len(scenes)))"
   ],
   "metadata": {
    "collapsed": false,
    "ExecuteTime": {
     "end_time": "2023-07-04T22:53:49.068698600Z",
     "start_time": "2023-07-04T22:53:49.038432800Z"
    }
   }
  },
  {
   "cell_type": "code",
   "execution_count": 51,
   "outputs": [
    {
     "name": "stdout",
     "output_type": "stream",
     "text": [
      "dataset: sim_3, samples: 187142\n"
     ]
    }
   ],
   "source": [
    "for dataset, samples in size.items():\n",
    "    print('dataset: {}, samples: {}'.format(dataset, samples))"
   ],
   "metadata": {
    "collapsed": false,
    "ExecuteTime": {
     "end_time": "2023-07-04T22:53:49.636963200Z",
     "start_time": "2023-07-04T22:53:49.626953100Z"
    }
   }
  },
  {
   "cell_type": "code",
   "execution_count": 27,
   "outputs": [],
   "source": [],
   "metadata": {
    "collapsed": false,
    "ExecuteTime": {
     "end_time": "2023-07-04T22:52:11.056024600Z",
     "start_time": "2023-07-04T22:52:11.011020800Z"
    }
   }
  }
 ],
 "metadata": {
  "kernelspec": {
   "display_name": "Python 3",
   "language": "python",
   "name": "python3"
  },
  "language_info": {
   "codemirror_mode": {
    "name": "ipython",
    "version": 2
   },
   "file_extension": ".py",
   "mimetype": "text/x-python",
   "name": "python",
   "nbconvert_exporter": "python",
   "pygments_lexer": "ipython2",
   "version": "2.7.6"
  }
 },
 "nbformat": 4,
 "nbformat_minor": 0
}
