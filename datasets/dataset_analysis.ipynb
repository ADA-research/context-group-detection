{
 "cells": [
  {
   "cell_type": "markdown",
   "source": [
    "# Imports"
   ],
   "metadata": {
    "collapsed": false
   }
  },
  {
   "cell_type": "code",
   "execution_count": 2,
   "metadata": {
    "collapsed": true
   },
   "outputs": [],
   "source": [
    "from loader import read_obsmat, read_groups"
   ]
  },
  {
   "cell_type": "markdown",
   "source": [
    "# Load data"
   ],
   "metadata": {
    "collapsed": false
   }
  },
  {
   "cell_type": "code",
   "execution_count": 3,
   "outputs": [],
   "source": [
    "dataset_path = './UCY/students03'\n",
    "df = read_obsmat(dataset_path)\n",
    "groups = read_groups(dataset_path)"
   ],
   "metadata": {
    "collapsed": false
   }
  },
  {
   "cell_type": "code",
   "execution_count": 4,
   "outputs": [
    {
     "data": {
      "text/plain": "   frame_id  agent_id     pos_x     pos_y       v_x       v_y  timestamp\n0         1         1  1.641300  2.188291 -0.161799  0.702095       0.04\n1         1         2  0.222933  4.477681  0.005909  0.711261       0.04\n2         1         3  3.873701 -0.476888 -0.703324  0.454779       0.04\n3         1         4  1.665726 -4.184461 -0.315806  0.378670       0.04\n4         1         5  1.030742  6.572421 -0.142576 -1.387602       0.04",
      "text/html": "<div>\n<style scoped>\n    .dataframe tbody tr th:only-of-type {\n        vertical-align: middle;\n    }\n\n    .dataframe tbody tr th {\n        vertical-align: top;\n    }\n\n    .dataframe thead th {\n        text-align: right;\n    }\n</style>\n<table border=\"1\" class=\"dataframe\">\n  <thead>\n    <tr style=\"text-align: right;\">\n      <th></th>\n      <th>frame_id</th>\n      <th>agent_id</th>\n      <th>pos_x</th>\n      <th>pos_y</th>\n      <th>v_x</th>\n      <th>v_y</th>\n      <th>timestamp</th>\n    </tr>\n  </thead>\n  <tbody>\n    <tr>\n      <th>0</th>\n      <td>1</td>\n      <td>1</td>\n      <td>1.641300</td>\n      <td>2.188291</td>\n      <td>-0.161799</td>\n      <td>0.702095</td>\n      <td>0.04</td>\n    </tr>\n    <tr>\n      <th>1</th>\n      <td>1</td>\n      <td>2</td>\n      <td>0.222933</td>\n      <td>4.477681</td>\n      <td>0.005909</td>\n      <td>0.711261</td>\n      <td>0.04</td>\n    </tr>\n    <tr>\n      <th>2</th>\n      <td>1</td>\n      <td>3</td>\n      <td>3.873701</td>\n      <td>-0.476888</td>\n      <td>-0.703324</td>\n      <td>0.454779</td>\n      <td>0.04</td>\n    </tr>\n    <tr>\n      <th>3</th>\n      <td>1</td>\n      <td>4</td>\n      <td>1.665726</td>\n      <td>-4.184461</td>\n      <td>-0.315806</td>\n      <td>0.378670</td>\n      <td>0.04</td>\n    </tr>\n    <tr>\n      <th>4</th>\n      <td>1</td>\n      <td>5</td>\n      <td>1.030742</td>\n      <td>6.572421</td>\n      <td>-0.142576</td>\n      <td>-1.387602</td>\n      <td>0.04</td>\n    </tr>\n  </tbody>\n</table>\n</div>"
     },
     "execution_count": 4,
     "metadata": {},
     "output_type": "execute_result"
    }
   ],
   "source": [
    "df.head()"
   ],
   "metadata": {
    "collapsed": false
   }
  },
  {
   "cell_type": "code",
   "execution_count": 5,
   "outputs": [
    {
     "name": "stdout",
     "output_type": "stream",
     "text": [
      "Shape of dataframe: (21846, 7)\n",
      "Number of unique agents: 428\n",
      "Number of unique frames: 540\n"
     ]
    }
   ],
   "source": [
    "print('Shape of dataframe: {}'.format(df.shape))\n",
    "print('Number of unique agents: {}'.format(df.agent_id.unique().size))\n",
    "print('Number of unique frames: {}'.format(df.frame_id.unique().size))"
   ],
   "metadata": {
    "collapsed": false
   }
  },
  {
   "cell_type": "code",
   "execution_count": 7,
   "outputs": [
    {
     "name": "stdout",
     "output_type": "stream",
     "text": [
      "Number of groups: 103\n",
      "Agents ['', '421', '422', '121'] are found in more than one group\n",
      "Number of agents in groups: 542\n"
     ]
    }
   ],
   "source": [
    "print('Number of groups: {}'.format(len(groups)))\n",
    "\n",
    "from collections import Counter\n",
    "count_dict = Counter([agent for group in groups for agent in group])\n",
    "multigroup_agents = [key for key, value in count_dict.items() if value > 1]\n",
    "print('Agents {} are found in more than one group'.format(multigroup_agents))\n",
    "\n",
    "group_agents = [agent for agent in count_dict.elements()]\n",
    "print('Number of agents in groups: {}'.format(len(group_agents)))"
   ],
   "metadata": {
    "collapsed": false
   }
  },
  {
   "cell_type": "markdown",
   "source": [
    "number of frames for each agent"
   ],
   "metadata": {
    "collapsed": false
   }
  },
  {
   "cell_type": "code",
   "execution_count": 54,
   "outputs": [
    {
     "data": {
      "text/plain": "468    539\n473    539\n233    288\n232    287\n228    263\n      ... \n407      6\n369      6\n299      5\n298      5\n408      2\nName: agent_id, Length: 428, dtype: int64"
     },
     "execution_count": 54,
     "metadata": {},
     "output_type": "execute_result"
    }
   ],
   "source": [
    "df['agent_id'].value_counts()"
   ],
   "metadata": {
    "collapsed": false
   }
  },
  {
   "cell_type": "markdown",
   "source": [
    "number of people for each frame"
   ],
   "metadata": {
    "collapsed": false
   }
  },
  {
   "cell_type": "code",
   "execution_count": 55,
   "outputs": [
    {
     "data": {
      "text/plain": "1001    62\n981     62\n991     62\n1011    60\n1021    59\n        ..\n4951    22\n4941    22\n4961    22\n4931    21\n5391    16\nName: frame_id, Length: 540, dtype: int64"
     },
     "execution_count": 55,
     "metadata": {},
     "output_type": "execute_result"
    }
   ],
   "source": [
    "df['frame_id'].value_counts()\n",
    "' 6    18   421   422   423   425 '"
   ],
   "metadata": {
    "collapsed": false
   }
  },
  {
   "cell_type": "code",
   "execution_count": 22,
   "outputs": [],
   "source": [
    "from loader import load_eth"
   ],
   "metadata": {
    "collapsed": false
   }
  },
  {
   "cell_type": "code",
   "execution_count": 23,
   "outputs": [],
   "source": [
    "eth_traj_dataset = load_eth('./ETH/seq_eth/obsmat.txt')\n",
    "eth_trajs = eth_traj_dataset.get_trajectories()"
   ],
   "metadata": {
    "collapsed": false
   }
  },
  {
   "cell_type": "code",
   "execution_count": 25,
   "outputs": [
    {
     "data": {
      "text/plain": "   frame_id  agent_id      pos_x     pos_y     vel_x     vel_y  scene_id  \\\n0       780         1   8.456844  3.588066  1.671714  0.176292         0   \n1       786         1   9.125530  3.658583  1.662877  0.326723         0   \n2       792         1   9.787146  3.849445  1.683334  0.371084         0   \n3       798         1  10.472197  3.955450  1.598568  0.264795         0   \n4       804         1  11.066000  4.061280  1.574526  0.456390         0   \n6       810         1  11.731818  4.320563  1.644127  0.544391         0   \n8       816         1  12.381302  4.496793  1.623709  0.440576         0   \n\n        label  timestamp  \n0  pedestrian       52.0  \n1  pedestrian       52.4  \n2  pedestrian       52.8  \n3  pedestrian       53.2  \n4  pedestrian       53.6  \n6  pedestrian       54.0  \n8  pedestrian       54.4  ",
      "text/html": "<div>\n<style scoped>\n    .dataframe tbody tr th:only-of-type {\n        vertical-align: middle;\n    }\n\n    .dataframe tbody tr th {\n        vertical-align: top;\n    }\n\n    .dataframe thead th {\n        text-align: right;\n    }\n</style>\n<table border=\"1\" class=\"dataframe\">\n  <thead>\n    <tr style=\"text-align: right;\">\n      <th></th>\n      <th>frame_id</th>\n      <th>agent_id</th>\n      <th>pos_x</th>\n      <th>pos_y</th>\n      <th>vel_x</th>\n      <th>vel_y</th>\n      <th>scene_id</th>\n      <th>label</th>\n      <th>timestamp</th>\n    </tr>\n  </thead>\n  <tbody>\n    <tr>\n      <th>0</th>\n      <td>780</td>\n      <td>1</td>\n      <td>8.456844</td>\n      <td>3.588066</td>\n      <td>1.671714</td>\n      <td>0.176292</td>\n      <td>0</td>\n      <td>pedestrian</td>\n      <td>52.0</td>\n    </tr>\n    <tr>\n      <th>1</th>\n      <td>786</td>\n      <td>1</td>\n      <td>9.125530</td>\n      <td>3.658583</td>\n      <td>1.662877</td>\n      <td>0.326723</td>\n      <td>0</td>\n      <td>pedestrian</td>\n      <td>52.4</td>\n    </tr>\n    <tr>\n      <th>2</th>\n      <td>792</td>\n      <td>1</td>\n      <td>9.787146</td>\n      <td>3.849445</td>\n      <td>1.683334</td>\n      <td>0.371084</td>\n      <td>0</td>\n      <td>pedestrian</td>\n      <td>52.8</td>\n    </tr>\n    <tr>\n      <th>3</th>\n      <td>798</td>\n      <td>1</td>\n      <td>10.472197</td>\n      <td>3.955450</td>\n      <td>1.598568</td>\n      <td>0.264795</td>\n      <td>0</td>\n      <td>pedestrian</td>\n      <td>53.2</td>\n    </tr>\n    <tr>\n      <th>4</th>\n      <td>804</td>\n      <td>1</td>\n      <td>11.066000</td>\n      <td>4.061280</td>\n      <td>1.574526</td>\n      <td>0.456390</td>\n      <td>0</td>\n      <td>pedestrian</td>\n      <td>53.6</td>\n    </tr>\n    <tr>\n      <th>6</th>\n      <td>810</td>\n      <td>1</td>\n      <td>11.731818</td>\n      <td>4.320563</td>\n      <td>1.644127</td>\n      <td>0.544391</td>\n      <td>0</td>\n      <td>pedestrian</td>\n      <td>54.0</td>\n    </tr>\n    <tr>\n      <th>8</th>\n      <td>816</td>\n      <td>1</td>\n      <td>12.381302</td>\n      <td>4.496793</td>\n      <td>1.623709</td>\n      <td>0.440576</td>\n      <td>0</td>\n      <td>pedestrian</td>\n      <td>54.4</td>\n    </tr>\n  </tbody>\n</table>\n</div>"
     },
     "execution_count": 25,
     "metadata": {},
     "output_type": "execute_result"
    }
   ],
   "source": [
    "eth_traj_dataset.data.iloc[eth_trajs.groups[0, 1]] # get trajectory of scene_id 0 and pedestrian_id 1"
   ],
   "metadata": {
    "collapsed": false
   }
  },
  {
   "cell_type": "code",
   "execution_count": 26,
   "outputs": [
    {
     "data": {
      "text/plain": "   frame_id  agent_id      pos_x     pos_y     vel_x     vel_y  scene_id  \\\n0       780         1   8.456844  3.588066  1.671714  0.176292         0   \n1       786         1   9.125530  3.658583  1.662877  0.326723         0   \n2       792         1   9.787146  3.849445  1.683334  0.371084         0   \n3       798         1  10.472197  3.955450  1.598568  0.264795         0   \n4       804         1  11.066000  4.061280  1.574526  0.456390         0   \n6       810         1  11.731818  4.320563  1.644127  0.544391         0   \n8       816         1  12.381302  4.496793  1.623709  0.440576         0   \n\n        label  timestamp  \n0  pedestrian       52.0  \n1  pedestrian       52.4  \n2  pedestrian       52.8  \n3  pedestrian       53.2  \n4  pedestrian       53.6  \n6  pedestrian       54.0  \n8  pedestrian       54.4  ",
      "text/html": "<div>\n<style scoped>\n    .dataframe tbody tr th:only-of-type {\n        vertical-align: middle;\n    }\n\n    .dataframe tbody tr th {\n        vertical-align: top;\n    }\n\n    .dataframe thead th {\n        text-align: right;\n    }\n</style>\n<table border=\"1\" class=\"dataframe\">\n  <thead>\n    <tr style=\"text-align: right;\">\n      <th></th>\n      <th>frame_id</th>\n      <th>agent_id</th>\n      <th>pos_x</th>\n      <th>pos_y</th>\n      <th>vel_x</th>\n      <th>vel_y</th>\n      <th>scene_id</th>\n      <th>label</th>\n      <th>timestamp</th>\n    </tr>\n  </thead>\n  <tbody>\n    <tr>\n      <th>0</th>\n      <td>780</td>\n      <td>1</td>\n      <td>8.456844</td>\n      <td>3.588066</td>\n      <td>1.671714</td>\n      <td>0.176292</td>\n      <td>0</td>\n      <td>pedestrian</td>\n      <td>52.0</td>\n    </tr>\n    <tr>\n      <th>1</th>\n      <td>786</td>\n      <td>1</td>\n      <td>9.125530</td>\n      <td>3.658583</td>\n      <td>1.662877</td>\n      <td>0.326723</td>\n      <td>0</td>\n      <td>pedestrian</td>\n      <td>52.4</td>\n    </tr>\n    <tr>\n      <th>2</th>\n      <td>792</td>\n      <td>1</td>\n      <td>9.787146</td>\n      <td>3.849445</td>\n      <td>1.683334</td>\n      <td>0.371084</td>\n      <td>0</td>\n      <td>pedestrian</td>\n      <td>52.8</td>\n    </tr>\n    <tr>\n      <th>3</th>\n      <td>798</td>\n      <td>1</td>\n      <td>10.472197</td>\n      <td>3.955450</td>\n      <td>1.598568</td>\n      <td>0.264795</td>\n      <td>0</td>\n      <td>pedestrian</td>\n      <td>53.2</td>\n    </tr>\n    <tr>\n      <th>4</th>\n      <td>804</td>\n      <td>1</td>\n      <td>11.066000</td>\n      <td>4.061280</td>\n      <td>1.574526</td>\n      <td>0.456390</td>\n      <td>0</td>\n      <td>pedestrian</td>\n      <td>53.6</td>\n    </tr>\n    <tr>\n      <th>6</th>\n      <td>810</td>\n      <td>1</td>\n      <td>11.731818</td>\n      <td>4.320563</td>\n      <td>1.644127</td>\n      <td>0.544391</td>\n      <td>0</td>\n      <td>pedestrian</td>\n      <td>54.0</td>\n    </tr>\n    <tr>\n      <th>8</th>\n      <td>816</td>\n      <td>1</td>\n      <td>12.381302</td>\n      <td>4.496793</td>\n      <td>1.623709</td>\n      <td>0.440576</td>\n      <td>0</td>\n      <td>pedestrian</td>\n      <td>54.4</td>\n    </tr>\n  </tbody>\n</table>\n</div>"
     },
     "execution_count": 26,
     "metadata": {},
     "output_type": "execute_result"
    }
   ],
   "source": [
    "eth_traj_dataset.data[eth_traj_dataset.data['agent_id'] == 1]"
   ],
   "metadata": {
    "collapsed": false
   }
  },
  {
   "cell_type": "code",
   "execution_count": 27,
   "outputs": [
    {
     "data": {
      "text/plain": "(8908, 9)"
     },
     "execution_count": 27,
     "metadata": {},
     "output_type": "execute_result"
    }
   ],
   "source": [
    "eth_traj_dataset.data.shape"
   ],
   "metadata": {
    "collapsed": false
   }
  },
  {
   "cell_type": "markdown",
   "source": [
    "# Thoughts and TODOs"
   ],
   "metadata": {
    "collapsed": false
   }
  },
  {
   "cell_type": "markdown",
   "source": [
    "goal: data for all agents, both in or not in groups\n",
    "problems: agents in low number of frames"
   ],
   "metadata": {
    "collapsed": false
   }
  },
  {
   "cell_type": "markdown",
   "source": [
    "number of same agents in X consecutive frames"
   ],
   "metadata": {
    "collapsed": false
   }
  },
  {
   "cell_type": "code",
   "execution_count": 13,
   "outputs": [],
   "source": [
    "# TODO calculate number of same agents in all possible X consecutive frames, find set of agents in each frame, check intersection between the sets"
   ],
   "metadata": {
    "collapsed": false
   }
  },
  {
   "cell_type": "markdown",
   "source": [
    "agents that exist in low number of frames"
   ],
   "metadata": {
    "collapsed": false
   }
  },
  {
   "cell_type": "code",
   "execution_count": 20,
   "outputs": [],
   "source": [
    "# TODO for agents with lower than X frames, generate data to reach X frames"
   ],
   "metadata": {
    "collapsed": false
   }
  },
  {
   "cell_type": "markdown",
   "source": [
    "time window 1 frame"
   ],
   "metadata": {
    "collapsed": false
   }
  },
  {
   "cell_type": "code",
   "execution_count": null,
   "outputs": [],
   "source": [
    "# TODO check number of data when time window is 1 frame"
   ],
   "metadata": {
    "collapsed": false
   }
  },
  {
   "cell_type": "markdown",
   "source": [
    "agents in multiple groups"
   ],
   "metadata": {
    "collapsed": false
   }
  },
  {
   "cell_type": "code",
   "execution_count": null,
   "outputs": [],
   "source": [
    "# TODO check number of agents in multiple groups"
   ],
   "metadata": {
    "collapsed": false
   }
  }
 ],
 "metadata": {
  "kernelspec": {
   "display_name": "Python 3",
   "language": "python",
   "name": "python3"
  },
  "language_info": {
   "codemirror_mode": {
    "name": "ipython",
    "version": 2
   },
   "file_extension": ".py",
   "mimetype": "text/x-python",
   "name": "python",
   "nbconvert_exporter": "python",
   "pygments_lexer": "ipython2",
   "version": "2.7.6"
  }
 },
 "nbformat": 4,
 "nbformat_minor": 0
}
