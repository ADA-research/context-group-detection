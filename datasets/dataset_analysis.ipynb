{
 "cells": [
  {
   "cell_type": "markdown",
   "source": [
    "# Imports"
   ],
   "metadata": {
    "collapsed": false
   }
  },
  {
   "cell_type": "code",
   "execution_count": 1,
   "metadata": {
    "collapsed": true
   },
   "outputs": [],
   "source": [
    "import pandas as pd\n",
    "\n",
    "from preparer import dataset_stats, groups_size_hist"
   ]
  },
  {
   "cell_type": "markdown",
   "source": [
    "# Datasets stats"
   ],
   "metadata": {
    "collapsed": false
   }
  },
  {
   "cell_type": "code",
   "execution_count": 2,
   "outputs": [],
   "source": [
    "datasets_dict = {\n",
    "    'eth': dataset_stats('./ETH/seq_eth'),\n",
    "    'hotel': dataset_stats('./ETH/seq_hotel'),\n",
    "    'zara01': dataset_stats('./UCY/zara01'),\n",
    "    'zara02': dataset_stats('./UCY/zara02'),\n",
    "    'students03': dataset_stats('./UCY/students03')\n",
    "}"
   ],
   "metadata": {
    "collapsed": false
   }
  },
  {
   "cell_type": "code",
   "execution_count": 3,
   "outputs": [
    {
     "data": {
      "text/plain": "<Figure size 629.75x500 with 1 Axes>",
      "image/png": "[encoded data removed]"
     },
     "metadata": {},
     "output_type": "display_data"
    }
   ],
   "source": [
    "groups_dict = {\n",
    "    'eth': datasets_dict['eth']['groups'],\n",
    "    'hotel': datasets_dict['hotel']['groups'],\n",
    "    'zara01': datasets_dict['zara01']['groups'],\n",
    "    'zara02': datasets_dict['zara02']['groups'],\n",
    "    'students03': datasets_dict['students03']['groups']\n",
    "}\n",
    "groups_size_hist(groups_dict, './group_size_plot.png')"
   ],
   "metadata": {
    "collapsed": false
   }
  },
  {
   "cell_type": "code",
   "execution_count": 4,
   "outputs": [
    {
     "data": {
      "text/plain": "            groups  agents  frames  single agent groups  duration\neth             58     360    1448                  201     773.4\nhotel           41     390    1168                  305     722.4\nzara01          45     148     866                   46     360.4\nzara02          58     204    1052                   82     420.4\nstudents03     101     428     540                  194     215.6",
      "text/html": "<div>\n<style scoped>\n    .dataframe tbody tr th:only-of-type {\n        vertical-align: middle;\n    }\n\n    .dataframe tbody tr th {\n        vertical-align: top;\n    }\n\n    .dataframe thead th {\n        text-align: right;\n    }\n</style>\n<table border=\"1\" class=\"dataframe\">\n  <thead>\n    <tr style=\"text-align: right;\">\n      <th></th>\n      <th>groups</th>\n      <th>agents</th>\n      <th>frames</th>\n      <th>single agent groups</th>\n      <th>duration</th>\n    </tr>\n  </thead>\n  <tbody>\n    <tr>\n      <th>eth</th>\n      <td>58</td>\n      <td>360</td>\n      <td>1448</td>\n      <td>201</td>\n      <td>773.4</td>\n    </tr>\n    <tr>\n      <th>hotel</th>\n      <td>41</td>\n      <td>390</td>\n      <td>1168</td>\n      <td>305</td>\n      <td>722.4</td>\n    </tr>\n    <tr>\n      <th>zara01</th>\n      <td>45</td>\n      <td>148</td>\n      <td>866</td>\n      <td>46</td>\n      <td>360.4</td>\n    </tr>\n    <tr>\n      <th>zara02</th>\n      <td>58</td>\n      <td>204</td>\n      <td>1052</td>\n      <td>82</td>\n      <td>420.4</td>\n    </tr>\n    <tr>\n      <th>students03</th>\n      <td>101</td>\n      <td>428</td>\n      <td>540</td>\n      <td>194</td>\n      <td>215.6</td>\n    </tr>\n  </tbody>\n</table>\n</div>"
     },
     "execution_count": 4,
     "metadata": {},
     "output_type": "execute_result"
    }
   ],
   "source": [
    "stats_df = pd.DataFrame.from_dict(datasets_dict, orient='index')\n",
    "stats_df['groups'] = stats_df['groups'].str.len()\n",
    "stats_df.drop(columns=['df'])"
   ],
   "metadata": {
    "collapsed": false
   }
  },
  {
   "cell_type": "markdown",
   "source": [
    "# Single dataset preprocessing"
   ],
   "metadata": {
    "collapsed": false
   }
  },
  {
   "cell_type": "code",
   "execution_count": 5,
   "outputs": [],
   "source": [
    "dataset = 'eth'\n",
    "df = datasets_dict[dataset]['df']\n",
    "groups = datasets_dict[dataset]['groups']"
   ],
   "metadata": {
    "collapsed": false
   }
  },
  {
   "cell_type": "code",
   "execution_count": 6,
   "outputs": [
    {
     "data": {
      "text/plain": "   frame_id  agent_id      pos_x     pos_y       v_x       v_y  timestamp\n0       780         1   8.456844  3.588066  1.671714  0.176292       52.0\n1       786         1   9.125530  3.658583  1.662877  0.326723       52.4\n2       792         1   9.787146  3.849445  1.683334  0.371084       52.8\n3       798         1  10.472197  3.955450  1.598568  0.264795       53.2\n4       804         1  11.066000  4.061280  1.574526  0.456390       53.6",
      "text/html": "<div>\n<style scoped>\n    .dataframe tbody tr th:only-of-type {\n        vertical-align: middle;\n    }\n\n    .dataframe tbody tr th {\n        vertical-align: top;\n    }\n\n    .dataframe thead th {\n        text-align: right;\n    }\n</style>\n<table border=\"1\" class=\"dataframe\">\n  <thead>\n    <tr style=\"text-align: right;\">\n      <th></th>\n      <th>frame_id</th>\n      <th>agent_id</th>\n      <th>pos_x</th>\n      <th>pos_y</th>\n      <th>v_x</th>\n      <th>v_y</th>\n      <th>timestamp</th>\n    </tr>\n  </thead>\n  <tbody>\n    <tr>\n      <th>0</th>\n      <td>780</td>\n      <td>1</td>\n      <td>8.456844</td>\n      <td>3.588066</td>\n      <td>1.671714</td>\n      <td>0.176292</td>\n      <td>52.0</td>\n    </tr>\n    <tr>\n      <th>1</th>\n      <td>786</td>\n      <td>1</td>\n      <td>9.125530</td>\n      <td>3.658583</td>\n      <td>1.662877</td>\n      <td>0.326723</td>\n      <td>52.4</td>\n    </tr>\n    <tr>\n      <th>2</th>\n      <td>792</td>\n      <td>1</td>\n      <td>9.787146</td>\n      <td>3.849445</td>\n      <td>1.683334</td>\n      <td>0.371084</td>\n      <td>52.8</td>\n    </tr>\n    <tr>\n      <th>3</th>\n      <td>798</td>\n      <td>1</td>\n      <td>10.472197</td>\n      <td>3.955450</td>\n      <td>1.598568</td>\n      <td>0.264795</td>\n      <td>53.2</td>\n    </tr>\n    <tr>\n      <th>4</th>\n      <td>804</td>\n      <td>1</td>\n      <td>11.066000</td>\n      <td>4.061280</td>\n      <td>1.574526</td>\n      <td>0.456390</td>\n      <td>53.6</td>\n    </tr>\n  </tbody>\n</table>\n</div>"
     },
     "execution_count": 6,
     "metadata": {},
     "output_type": "execute_result"
    }
   ],
   "source": [
    "df.head()"
   ],
   "metadata": {
    "collapsed": false
   }
  },
  {
   "cell_type": "markdown",
   "source": [
    "number of frames for each agent"
   ],
   "metadata": {
    "collapsed": false
   }
  },
  {
   "cell_type": "code",
   "execution_count": 7,
   "outputs": [
    {
     "data": {
      "text/plain": "171    190\n216    101\n238     95\n52      64\n51      64\n      ... \n26       3\n288      3\n282      2\n115      2\n292      2\nName: agent_id, Length: 360, dtype: int64"
     },
     "execution_count": 7,
     "metadata": {},
     "output_type": "execute_result"
    }
   ],
   "source": [
    "agent_occurrences = df['agent_id'].value_counts()\n",
    "agent_occurrences"
   ],
   "metadata": {
    "collapsed": false
   }
  },
  {
   "cell_type": "markdown",
   "source": [
    "number of people for each frame"
   ],
   "metadata": {
    "collapsed": false
   }
  },
  {
   "cell_type": "code",
   "execution_count": 8,
   "outputs": [
    {
     "data": {
      "text/plain": "10383    27\n10437    26\n10377    26\n10365    26\n10371    26\n         ..\n4625      1\n8703      1\n8679      1\n4577      1\n1950      1\nName: frame_id, Length: 1448, dtype: int64"
     },
     "execution_count": 8,
     "metadata": {},
     "output_type": "execute_result"
    }
   ],
   "source": [
    "frame_occurrences = df['frame_id'].value_counts()\n",
    "frame_occurrences"
   ],
   "metadata": {
    "collapsed": false
   }
  },
  {
   "cell_type": "code",
   "execution_count": 9,
   "outputs": [
    {
     "data": {
      "text/plain": "     frame_id  agent_id     pos_x     pos_y       v_x       v_y  timestamp\n104       948         5  8.612637  4.203888  1.617353  0.061244       63.2\n105       948         4  8.899052  4.973553  1.504100  0.148273       63.2\n106       948         3  4.459227  6.987026 -0.578897  0.035336       63.2\n107       948         2  3.576947  7.818493 -0.817952  0.165903       63.2\n108       948         6  3.416835  6.179619 -1.012847 -0.003662       63.2",
      "text/html": "<div>\n<style scoped>\n    .dataframe tbody tr th:only-of-type {\n        vertical-align: middle;\n    }\n\n    .dataframe tbody tr th {\n        vertical-align: top;\n    }\n\n    .dataframe thead th {\n        text-align: right;\n    }\n</style>\n<table border=\"1\" class=\"dataframe\">\n  <thead>\n    <tr style=\"text-align: right;\">\n      <th></th>\n      <th>frame_id</th>\n      <th>agent_id</th>\n      <th>pos_x</th>\n      <th>pos_y</th>\n      <th>v_x</th>\n      <th>v_y</th>\n      <th>timestamp</th>\n    </tr>\n  </thead>\n  <tbody>\n    <tr>\n      <th>104</th>\n      <td>948</td>\n      <td>5</td>\n      <td>8.612637</td>\n      <td>4.203888</td>\n      <td>1.617353</td>\n      <td>0.061244</td>\n      <td>63.2</td>\n    </tr>\n    <tr>\n      <th>105</th>\n      <td>948</td>\n      <td>4</td>\n      <td>8.899052</td>\n      <td>4.973553</td>\n      <td>1.504100</td>\n      <td>0.148273</td>\n      <td>63.2</td>\n    </tr>\n    <tr>\n      <th>106</th>\n      <td>948</td>\n      <td>3</td>\n      <td>4.459227</td>\n      <td>6.987026</td>\n      <td>-0.578897</td>\n      <td>0.035336</td>\n      <td>63.2</td>\n    </tr>\n    <tr>\n      <th>107</th>\n      <td>948</td>\n      <td>2</td>\n      <td>3.576947</td>\n      <td>7.818493</td>\n      <td>-0.817952</td>\n      <td>0.165903</td>\n      <td>63.2</td>\n    </tr>\n    <tr>\n      <th>108</th>\n      <td>948</td>\n      <td>6</td>\n      <td>3.416835</td>\n      <td>6.179619</td>\n      <td>-1.012847</td>\n      <td>-0.003662</td>\n      <td>63.2</td>\n    </tr>\n  </tbody>\n</table>\n</div>"
     },
     "execution_count": 9,
     "metadata": {},
     "output_type": "execute_result"
    }
   ],
   "source": [
    "from preparer import remove_agents_and_frames_with_insufficient_data\n",
    "df = remove_agents_and_frames_with_insufficient_data(dataframe=df, frames_threshold=5, agents_threshold=7)\n",
    "df.head()"
   ],
   "metadata": {
    "collapsed": false
   }
  },
  {
   "cell_type": "code",
   "execution_count": 10,
   "outputs": [
    {
     "data": {
      "text/plain": "171    80\n238    69\n216    43\n358    41\n357    41\n       ..\n98      5\n96      5\n224     5\n58      5\n222     5\nName: agent_id, Length: 289, dtype: int64"
     },
     "execution_count": 10,
     "metadata": {},
     "output_type": "execute_result"
    }
   ],
   "source": [
    "agent_occurrences = df['agent_id'].value_counts()\n",
    "agent_occurrences"
   ],
   "metadata": {
    "collapsed": false
   }
  },
  {
   "cell_type": "code",
   "execution_count": 11,
   "outputs": [
    {
     "data": {
      "text/plain": "10383    27\n10371    26\n10365    26\n10377    26\n10437    26\n         ..\n4727      7\n8601      7\n8589      7\n8577      7\n3120      7\nName: frame_id, Length: 536, dtype: int64"
     },
     "execution_count": 11,
     "metadata": {},
     "output_type": "execute_result"
    }
   ],
   "source": [
    "frame_occurrences = df['frame_id'].value_counts()\n",
    "frame_occurrences"
   ],
   "metadata": {
    "collapsed": false
   }
  },
  {
   "cell_type": "markdown",
   "source": [
    "# Trajectories\n",
    "\n",
    "Use of eth proposed loader"
   ],
   "metadata": {
    "collapsed": false
   }
  },
  {
   "cell_type": "code",
   "execution_count": 12,
   "outputs": [
    {
     "name": "stdout",
     "output_type": "stream",
     "text": [
      "   frame_id  agent_id      pos_x     pos_y     vel_x     vel_y  scene_id  \\\n",
      "0       780         1   8.456844  3.588066  1.671714  0.176292         0   \n",
      "1       786         1   9.125530  3.658583  1.662877  0.326723         0   \n",
      "2       792         1   9.787146  3.849445  1.683334  0.371084         0   \n",
      "3       798         1  10.472197  3.955450  1.598568  0.264795         0   \n",
      "4       804         1  11.066000  4.061280  1.574526  0.456390         0   \n",
      "6       810         1  11.731818  4.320563  1.644127  0.544391         0   \n",
      "8       816         1  12.381302  4.496793  1.623709  0.440576         0   \n",
      "\n",
      "        label  timestamp  \n",
      "0  pedestrian       52.0  \n",
      "1  pedestrian       52.4  \n",
      "2  pedestrian       52.8  \n",
      "3  pedestrian       53.2  \n",
      "4  pedestrian       53.6  \n",
      "6  pedestrian       54.0  \n",
      "8  pedestrian       54.4  \n",
      "   frame_id  agent_id      pos_x     pos_y     vel_x     vel_y  scene_id  \\\n",
      "0       780         1   8.456844  3.588066  1.671714  0.176292         0   \n",
      "1       786         1   9.125530  3.658583  1.662877  0.326723         0   \n",
      "2       792         1   9.787146  3.849445  1.683334  0.371084         0   \n",
      "3       798         1  10.472197  3.955450  1.598568  0.264795         0   \n",
      "4       804         1  11.066000  4.061280  1.574526  0.456390         0   \n",
      "6       810         1  11.731818  4.320563  1.644127  0.544391         0   \n",
      "8       816         1  12.381302  4.496793  1.623709  0.440576         0   \n",
      "\n",
      "        label  timestamp  \n",
      "0  pedestrian       52.0  \n",
      "1  pedestrian       52.4  \n",
      "2  pedestrian       52.8  \n",
      "3  pedestrian       53.2  \n",
      "4  pedestrian       53.6  \n",
      "6  pedestrian       54.0  \n",
      "8  pedestrian       54.4  \n",
      "(8908, 9)\n"
     ]
    }
   ],
   "source": [
    "from loader import load_eth\n",
    "eth_traj_dataset = load_eth('./ETH/seq_eth/obsmat.txt')\n",
    "eth_trajs = eth_traj_dataset.get_trajectories()\n",
    "print(eth_traj_dataset.data.iloc[eth_trajs.groups[0, 1]])  # get trajectory of scene_id 0 and pedestrian_id 1\n",
    "print(eth_traj_dataset.data[eth_traj_dataset.data['agent_id'] == 1])\n",
    "print(eth_traj_dataset.data.shape)"
   ],
   "metadata": {
    "collapsed": false
   }
  },
  {
   "cell_type": "markdown",
   "source": [
    "# Thoughts and TODOs"
   ],
   "metadata": {
    "collapsed": false
   }
  },
  {
   "cell_type": "markdown",
   "source": [
    "goal: data for all agents, both in or not in groups\n",
    "problems: agents in low number of frames"
   ],
   "metadata": {
    "collapsed": false
   }
  },
  {
   "cell_type": "markdown",
   "source": [
    "number of same agents in X consecutive frames"
   ],
   "metadata": {
    "collapsed": false
   }
  },
  {
   "cell_type": "code",
   "execution_count": 13,
   "outputs": [
    {
     "data": {
      "text/plain": "   frame_id                 agents\n0       948  [5, 4, 3, 2, 6, 7, 8]\n1       954  [5, 4, 3, 2, 6, 7, 8]\n2       960  [5, 4, 3, 2, 6, 7, 8]\n3       966  [5, 4, 3, 2, 6, 7, 8]\n4       972  [5, 4, 3, 2, 6, 7, 8]",
      "text/html": "<div>\n<style scoped>\n    .dataframe tbody tr th:only-of-type {\n        vertical-align: middle;\n    }\n\n    .dataframe tbody tr th {\n        vertical-align: top;\n    }\n\n    .dataframe thead th {\n        text-align: right;\n    }\n</style>\n<table border=\"1\" class=\"dataframe\">\n  <thead>\n    <tr style=\"text-align: right;\">\n      <th></th>\n      <th>frame_id</th>\n      <th>agents</th>\n    </tr>\n  </thead>\n  <tbody>\n    <tr>\n      <th>0</th>\n      <td>948</td>\n      <td>[5, 4, 3, 2, 6, 7, 8]</td>\n    </tr>\n    <tr>\n      <th>1</th>\n      <td>954</td>\n      <td>[5, 4, 3, 2, 6, 7, 8]</td>\n    </tr>\n    <tr>\n      <th>2</th>\n      <td>960</td>\n      <td>[5, 4, 3, 2, 6, 7, 8]</td>\n    </tr>\n    <tr>\n      <th>3</th>\n      <td>966</td>\n      <td>[5, 4, 3, 2, 6, 7, 8]</td>\n    </tr>\n    <tr>\n      <th>4</th>\n      <td>972</td>\n      <td>[5, 4, 3, 2, 6, 7, 8]</td>\n    </tr>\n  </tbody>\n</table>\n</div>"
     },
     "execution_count": 13,
     "metadata": {},
     "output_type": "execute_result"
    }
   ],
   "source": [
    "agents_by_frame = df.groupby('frame_id')['agent_id'].apply(list).reset_index(name='agents')\n",
    "agents_by_frame.head()"
   ],
   "metadata": {
    "collapsed": false
   }
  },
  {
   "cell_type": "code",
   "execution_count": 14,
   "outputs": [
    {
     "data": {
      "text/plain": "[[948, 954, 960],\n [954, 960, 966],\n [960, 966, 972],\n [966, 972, 978],\n [972, 978, 984],\n [978, 984, 1074],\n [984, 1074, 1080],\n [1074, 1080, 1086],\n [1080, 1086, 1092],\n [1086, 1092, 1098]]"
     },
     "execution_count": 14,
     "metadata": {},
     "output_type": "execute_result"
    }
   ],
   "source": [
    "frame_ids = agents_by_frame.frame_id.values\n",
    "consecutive_frames = 3 # change this for longer trajectory\n",
    "frame_id_combs = [list(frame_ids[i:i+consecutive_frames]) for i, frame_id in enumerate(frame_ids[:-consecutive_frames])]\n",
    "frame_id_combs[:10]"
   ],
   "metadata": {
    "collapsed": false
   }
  },
  {
   "cell_type": "code",
   "execution_count": 15,
   "outputs": [
    {
     "data": {
      "text/plain": "[[948, 954, 960],\n [954, 960, 966],\n [960, 966, 972],\n [966, 972, 978],\n [972, 978, 984],\n [1074, 1080, 1086],\n [1080, 1086, 1092],\n [1086, 1092, 1098],\n [1092, 1098, 1104],\n [1098, 1104, 1110]]"
     },
     "execution_count": 15,
     "metadata": {},
     "output_type": "execute_result"
    }
   ],
   "source": [
    "from preparer import filter_difference_between_frame_combinations\n",
    "filtered_frame_combinations = filter_difference_between_frame_combinations(frame_id_combs, 6)\n",
    "filtered_frame_combinations[:10]"
   ],
   "metadata": {
    "collapsed": false
   }
  },
  {
   "cell_type": "code",
   "execution_count": 19,
   "outputs": [
    {
     "data": {
      "text/plain": "[5, 4, 3, 2, 6, 7, 8]"
     },
     "execution_count": 19,
     "metadata": {},
     "output_type": "execute_result"
    }
   ],
   "source": [
    "agents_by_frame[agents_by_frame['frame_id'] == 948]['agents'].iloc[0]"
   ],
   "metadata": {
    "collapsed": false
   }
  },
  {
   "cell_type": "code",
   "execution_count": 23,
   "outputs": [
    {
     "name": "stdout",
     "output_type": "stream",
     "text": [
      "frames: [948, 954, 960], common agents: {2, 3, 4, 5, 6, 7, 8}, common agents/total agents: 7/7\n",
      "frames: [954, 960, 966], common agents: {2, 3, 4, 5, 6, 7, 8}, common agents/total agents: 7/7\n",
      "frames: [960, 966, 972], common agents: {2, 3, 4, 5, 6, 7, 8}, common agents/total agents: 7/7\n",
      "frames: [966, 972, 978], common agents: {2, 3, 4, 5, 6, 7, 8}, common agents/total agents: 7/7\n",
      "frames: [972, 978, 984], common agents: {2, 3, 4, 5, 6, 7, 8}, common agents/total agents: 7/7\n",
      "frames: [1074, 1080, 1086], common agents: {8, 9, 10, 11, 12, 13, 14}, common agents/total agents: 7/8\n",
      "frames: [1080, 1086, 1092], common agents: {8, 9, 10, 11, 12, 13, 14}, common agents/total agents: 7/8\n",
      "frames: [1086, 1092, 1098], common agents: {8, 9, 10, 11, 12, 13, 14, 15}, common agents/total agents: 8/8\n",
      "frames: [1092, 1098, 1104], common agents: {8, 9, 10, 11, 12, 13, 14, 15}, common agents/total agents: 8/10\n",
      "frames: [1098, 1104, 1110], common agents: {8, 11, 12, 13, 14, 15}, common agents/total agents: 6/11\n",
      "frames: [1104, 1110, 1116], common agents: {8, 11, 12, 13, 14, 15, 16, 17}, common agents/total agents: 8/11\n",
      "frames: [1110, 1116, 1122], common agents: {8, 11, 12, 13, 14, 15, 16, 17, 18}, common agents/total agents: 9/10\n",
      "frames: [1116, 1122, 1128], common agents: {8, 11, 12, 13, 14, 15, 16, 17, 18}, common agents/total agents: 9/10\n",
      "frames: [1122, 1128, 1134], common agents: {11, 12, 13, 14, 15, 16, 17, 18, 20}, common agents/total agents: 9/10\n",
      "frames: [1128, 1134, 1140], common agents: {11, 12, 13, 14, 15, 16, 17, 18, 20}, common agents/total agents: 9/10\n",
      "frames: [1134, 1140, 1146], common agents: {11, 12, 13, 14, 15, 16, 17, 18, 20}, common agents/total agents: 9/10\n",
      "frames: [1140, 1146, 1152], common agents: {11, 12, 13, 14, 15, 16, 17, 18, 20}, common agents/total agents: 9/10\n",
      "frames: [1146, 1152, 1158], common agents: {11, 12, 13, 14, 15, 16, 17, 18, 20, 21}, common agents/total agents: 10/10\n",
      "frames: [1152, 1158, 1164], common agents: {11, 12, 13, 14, 15, 16, 17, 18, 20, 21}, common agents/total agents: 10/10\n",
      "frames: [1158, 1164, 1170], common agents: {11, 12, 13, 14, 15, 16, 17, 18, 20, 21}, common agents/total agents: 10/10\n",
      "frames: [1164, 1170, 1176], common agents: {11, 12, 13, 14, 15, 16, 17, 18, 20, 21}, common agents/total agents: 10/10\n",
      "frames: [1170, 1176, 1182], common agents: {11, 12, 13, 14, 15, 16, 17, 18, 20, 21}, common agents/total agents: 10/10\n",
      "frames: [1176, 1182, 1188], common agents: {11, 12, 13, 14, 15, 16, 17, 18, 20, 21}, common agents/total agents: 10/10\n",
      "frames: [1182, 1188, 1194], common agents: {11, 12, 13, 14, 15, 16, 17, 18, 20, 21}, common agents/total agents: 10/10\n",
      "frames: [1188, 1194, 1200], common agents: {11, 12, 13, 14, 15, 16, 17, 18, 20, 21}, common agents/total agents: 10/10\n",
      "frames: [1194, 1200, 1206], common agents: {11, 12, 13, 14, 15, 16, 17, 18, 20, 21}, common agents/total agents: 10/10\n",
      "frames: [1200, 1206, 1212], common agents: {11, 12, 13, 14, 15, 16, 17, 18, 20, 21}, common agents/total agents: 10/10\n",
      "frames: [1206, 1212, 1218], common agents: {11, 12, 13, 14, 15, 16, 17, 18, 20, 21}, common agents/total agents: 10/10\n",
      "frames: [1212, 1218, 1224], common agents: {11, 12, 13, 14, 15, 16, 17, 18, 20, 21}, common agents/total agents: 10/10\n",
      "frames: [1218, 1224, 1230], common agents: {11, 12, 13, 14, 15, 16, 17, 18, 20, 21}, common agents/total agents: 10/10\n",
      "frames: [1224, 1230, 1236], common agents: {11, 12, 13, 14, 15, 16, 17, 18, 20, 21}, common agents/total agents: 10/10\n",
      "frames: [1230, 1236, 1242], common agents: {11, 12, 13, 14, 15, 16, 17, 18, 20, 21}, common agents/total agents: 10/10\n",
      "frames: [2214, 2220, 2226], common agents: {41, 42, 43, 44, 45, 46, 47}, common agents/total agents: 7/7\n",
      "frames: [2220, 2226, 2232], common agents: {41, 42, 43, 44, 45, 46, 47}, common agents/total agents: 7/7\n",
      "frames: [2226, 2232, 2238], common agents: {41, 42, 43, 44, 45, 46, 47}, common agents/total agents: 7/8\n",
      "frames: [2232, 2238, 2244], common agents: {41, 42, 43, 44, 45, 46, 47}, common agents/total agents: 7/8\n",
      "frames: [2238, 2244, 2250], common agents: {41, 42, 43, 44, 45, 46, 47, 48}, common agents/total agents: 8/8\n",
      "frames: [2244, 2250, 2256], common agents: {41, 42, 43, 44, 45, 46, 47, 48}, common agents/total agents: 8/8\n",
      "frames: [2250, 2256, 2262], common agents: {41, 42, 43, 44, 45, 46, 47, 48}, common agents/total agents: 8/8\n",
      "frames: [2256, 2262, 2268], common agents: {41, 42, 43, 44, 45, 46, 47, 48}, common agents/total agents: 8/8\n",
      "frames: [2262, 2268, 2274], common agents: {41, 42, 43, 44, 45, 46, 47, 48}, common agents/total agents: 8/8\n",
      "frames: [2268, 2274, 2280], common agents: {41, 42, 43, 44, 45, 46, 47, 48}, common agents/total agents: 8/8\n",
      "frames: [2274, 2280, 2286], common agents: {41, 42, 43, 44, 45, 46, 47, 48}, common agents/total agents: 8/8\n",
      "frames: [2862, 2868, 2874], common agents: {50, 51, 52, 53, 54, 55, 56, 57}, common agents/total agents: 8/8\n",
      "frames: [2868, 2874, 2880], common agents: {50, 51, 52, 53, 54, 55, 56, 57}, common agents/total agents: 8/8\n",
      "frames: [2874, 2880, 2886], common agents: {50, 51, 52, 53, 54, 55, 56, 57}, common agents/total agents: 8/8\n",
      "frames: [2880, 2886, 2892], common agents: {50, 51, 52, 53, 54, 55, 56, 57}, common agents/total agents: 8/8\n",
      "frames: [2886, 2892, 2898], common agents: {50, 51, 52, 53, 54, 55, 56, 57}, common agents/total agents: 8/8\n",
      "frames: [2892, 2898, 2904], common agents: {50, 51, 52, 53, 54, 55, 56, 57}, common agents/total agents: 8/8\n",
      "frames: [2898, 2904, 2910], common agents: {50, 51, 52, 53, 54, 55, 56, 57}, common agents/total agents: 8/9\n",
      "frames: [2904, 2910, 2916], common agents: {50, 51, 52, 53, 54, 55, 56, 57}, common agents/total agents: 8/9\n",
      "frames: [2910, 2916, 2922], common agents: {50, 51, 52, 53, 54, 55, 56, 57, 58}, common agents/total agents: 9/9\n",
      "frames: [2916, 2922, 2928], common agents: {50, 51, 52, 55, 56, 57, 58}, common agents/total agents: 7/9\n",
      "frames: [2922, 2928, 2934], common agents: {50, 51, 52, 55, 56, 57, 58}, common agents/total agents: 7/9\n",
      "frames: [3102, 3108, 3114], common agents: {51, 52, 56, 59, 60, 61, 62}, common agents/total agents: 7/7\n",
      "frames: [3108, 3114, 3120], common agents: {51, 52, 56, 59, 60, 61, 62}, common agents/total agents: 7/7\n",
      "frames: [3114, 3120, 3126], common agents: {51, 52, 56, 59, 60, 61, 62}, common agents/total agents: 7/7\n",
      "frames: [3120, 3126, 3132], common agents: {51, 52, 56, 59, 60, 61, 62}, common agents/total agents: 7/7\n",
      "frames: [3126, 3132, 3138], common agents: {51, 52, 56, 59, 60, 61, 62}, common agents/total agents: 7/7\n",
      "frames: [4223, 4229, 4235], common agents: {69, 70, 71, 72, 73, 74, 75, 76}, common agents/total agents: 8/8\n",
      "frames: [4229, 4235, 4241], common agents: {69, 70, 71, 72, 73, 74, 75, 76}, common agents/total agents: 8/8\n",
      "frames: [4235, 4241, 4247], common agents: {69, 70, 71, 72, 73, 74, 75, 76}, common agents/total agents: 8/8\n",
      "frames: [4241, 4247, 4253], common agents: {69, 70, 71, 72, 73, 74, 75, 76}, common agents/total agents: 8/8\n",
      "frames: [4247, 4253, 4259], common agents: {69, 70, 71, 72, 73, 74, 75, 76}, common agents/total agents: 8/8\n",
      "frames: [4253, 4259, 4265], common agents: {70, 71, 72, 73, 74, 75, 76}, common agents/total agents: 7/8\n",
      "frames: [4259, 4265, 4271], common agents: {70, 71, 72, 73, 74, 75, 76}, common agents/total agents: 7/8\n",
      "frames: [4265, 4271, 4277], common agents: {70, 71, 72, 73, 74, 75, 76}, common agents/total agents: 7/7\n",
      "frames: [4271, 4277, 4283], common agents: {70, 71, 72, 73, 74, 75, 76}, common agents/total agents: 7/7\n",
      "frames: [4277, 4283, 4289], common agents: {70, 71, 72, 73, 74, 75, 76}, common agents/total agents: 7/7\n",
      "frames: [4283, 4289, 4295], common agents: {70, 71, 72, 73, 74, 75, 76}, common agents/total agents: 7/7\n",
      "frames: [4289, 4295, 4301], common agents: {70, 71, 72, 73, 74, 75, 76}, common agents/total agents: 7/7\n",
      "frames: [4295, 4301, 4307], common agents: {70, 71, 72, 73, 74, 75, 76}, common agents/total agents: 7/9\n",
      "frames: [4301, 4307, 4313], common agents: {70, 71, 72, 73, 74, 75, 76}, common agents/total agents: 7/9\n",
      "frames: [4307, 4313, 4319], common agents: {70, 71, 72, 73, 74, 75, 76, 77, 78}, common agents/total agents: 9/9\n",
      "frames: [4313, 4319, 4325], common agents: {70, 71, 72, 73, 74, 75, 76, 77, 78}, common agents/total agents: 9/9\n",
      "frames: [4319, 4325, 4331], common agents: {70, 71, 72, 73, 74, 75, 76, 77, 78}, common agents/total agents: 9/10\n",
      "frames: [4325, 4331, 4337], common agents: {70, 71, 72, 73, 74, 75, 76, 77, 78}, common agents/total agents: 9/10\n",
      "frames: [4331, 4337, 4343], common agents: {70, 71, 72, 73, 74, 75, 76, 77, 78, 79}, common agents/total agents: 10/10\n",
      "frames: [4337, 4343, 4349], common agents: {70, 71, 72, 73, 74, 75, 76, 77, 78, 79}, common agents/total agents: 10/10\n",
      "frames: [4343, 4349, 4355], common agents: {70, 71, 72, 73, 74, 75, 76, 77, 78, 79}, common agents/total agents: 10/10\n",
      "frames: [4727, 4733, 4739], common agents: {84, 85, 86, 87, 88, 89, 90}, common agents/total agents: 7/7\n",
      "frames: [4733, 4739, 4745], common agents: {84, 85, 86, 87, 88, 89, 90}, common agents/total agents: 7/8\n",
      "frames: [4739, 4745, 4751], common agents: {84, 85, 86, 87, 88, 89, 90}, common agents/total agents: 7/8\n",
      "frames: [4745, 4751, 4757], common agents: {84, 85, 86, 87, 88, 89, 90, 91}, common agents/total agents: 8/8\n",
      "frames: [4751, 4757, 4763], common agents: {84, 85, 86, 87, 88, 89, 90, 91}, common agents/total agents: 8/8\n",
      "frames: [4757, 4763, 4769], common agents: {84, 85, 86, 87, 88, 89, 90, 91}, common agents/total agents: 8/8\n",
      "frames: [4763, 4769, 4775], common agents: {84, 85, 86, 87, 88, 89, 90, 91}, common agents/total agents: 8/8\n",
      "frames: [4769, 4775, 4781], common agents: {84, 85, 86, 87, 88, 89, 90, 91}, common agents/total agents: 8/8\n",
      "frames: [4805, 4811, 4817], common agents: {86, 87, 88, 89, 90, 91, 92, 93, 94}, common agents/total agents: 9/10\n",
      "frames: [4811, 4817, 4823], common agents: {86, 87, 88, 89, 90, 91, 92, 93, 94, 95}, common agents/total agents: 10/10\n",
      "frames: [4817, 4823, 4829], common agents: {86, 87, 88, 89, 90, 91, 92, 93, 94, 95}, common agents/total agents: 10/10\n",
      "frames: [4823, 4829, 4835], common agents: {86, 87, 88, 89, 91, 92, 93, 94, 95}, common agents/total agents: 9/10\n",
      "frames: [4829, 4835, 4841], common agents: {86, 87, 88, 89, 91, 92, 93, 94, 95}, common agents/total agents: 9/10\n",
      "frames: [4835, 4841, 4847], common agents: {86, 87, 88, 89, 91, 92, 93, 94, 95}, common agents/total agents: 9/9\n",
      "frames: [4841, 4847, 4853], common agents: {86, 87, 88, 89, 91, 92, 93, 94, 95}, common agents/total agents: 9/9\n",
      "frames: [4847, 4853, 4859], common agents: {86, 87, 88, 89, 91, 92, 93, 94, 95}, common agents/total agents: 9/9\n",
      "frames: [4853, 4859, 4865], common agents: {86, 87, 88, 89, 91, 92, 93, 94, 95}, common agents/total agents: 9/9\n",
      "frames: [4859, 4865, 4871], common agents: {86, 87, 91, 92, 93, 94, 95}, common agents/total agents: 7/9\n",
      "frames: [4937, 4943, 4949], common agents: {96, 97, 98, 99, 92, 93, 94, 95}, common agents/total agents: 8/8\n",
      "frames: [4943, 4949, 4955], common agents: {96, 97, 98, 99, 92, 93, 94}, common agents/total agents: 7/8\n",
      "frames: [4949, 4955, 4961], common agents: {96, 97, 98, 99, 92, 93, 94}, common agents/total agents: 7/8\n",
      "frames: [5111, 5117, 5123], common agents: {103, 104, 105, 106, 107, 108, 109, 110}, common agents/total agents: 8/8\n",
      "frames: [5117, 5123, 5129], common agents: {103, 104, 105, 106, 107, 108, 109, 110}, common agents/total agents: 8/8\n",
      "frames: [5123, 5129, 5135], common agents: {103, 104, 105, 106, 107, 108, 109, 110}, common agents/total agents: 8/8\n",
      "frames: [5129, 5135, 5141], common agents: {103, 104, 105, 106, 107, 108, 109, 110}, common agents/total agents: 8/8\n",
      "frames: [5135, 5141, 5147], common agents: {103, 104, 105, 106, 107, 108, 109, 110}, common agents/total agents: 8/8\n",
      "frames: [5141, 5147, 5153], common agents: {103, 104, 105, 106, 107, 108, 109, 110}, common agents/total agents: 8/9\n",
      "frames: [5147, 5153, 5159], common agents: {103, 104, 105, 106, 107, 108, 109, 110}, common agents/total agents: 8/9\n",
      "frames: [5153, 5159, 5165], common agents: {103, 104, 105, 106, 107, 108, 109, 110, 111}, common agents/total agents: 9/9\n",
      "frames: [5159, 5165, 5171], common agents: {103, 104, 105, 106, 107, 108, 109, 110, 111}, common agents/total agents: 9/9\n",
      "frames: [5165, 5171, 5177], common agents: {103, 104, 105, 106, 107, 109, 110, 111}, common agents/total agents: 8/9\n",
      "frames: [5171, 5177, 5183], common agents: {103, 104, 105, 106, 107, 109, 110, 111}, common agents/total agents: 8/9\n",
      "frames: [6839, 6845, 6851], common agents: {130, 131, 132, 133, 134, 135, 136}, common agents/total agents: 7/7\n",
      "frames: [6845, 6851, 6857], common agents: {130, 131, 132, 133, 134, 135, 136}, common agents/total agents: 7/7\n",
      "frames: [6851, 6857, 6863], common agents: {130, 131, 132, 133, 134, 135, 136}, common agents/total agents: 7/7\n",
      "frames: [6857, 6863, 6869], common agents: {130, 131, 132, 133, 134, 135, 136}, common agents/total agents: 7/8\n",
      "frames: [6863, 6869, 6875], common agents: {130, 131, 132, 133, 134, 135, 136}, common agents/total agents: 7/8\n",
      "frames: [6869, 6875, 6881], common agents: {130, 131, 132, 133, 134, 135, 136, 137}, common agents/total agents: 8/8\n",
      "frames: [6875, 6881, 6887], common agents: {130, 131, 132, 133, 134, 135, 136, 137}, common agents/total agents: 8/10\n",
      "frames: [6881, 6887, 6893], common agents: {130, 131, 132, 133, 134, 135, 136, 137}, common agents/total agents: 8/10\n",
      "frames: [6887, 6893, 6899], common agents: {130, 131, 132, 133, 134, 135, 136, 137, 138, 139}, common agents/total agents: 10/10\n",
      "frames: [6893, 6899, 6905], common agents: {130, 131, 132, 133, 134, 135, 136, 137, 138, 139}, common agents/total agents: 10/10\n",
      "frames: [6899, 6905, 6911], common agents: {130, 131, 132, 133, 134, 135, 136, 137, 138, 139}, common agents/total agents: 10/10\n",
      "frames: [6905, 6911, 6917], common agents: {130, 131, 132, 133, 134, 135, 136, 137, 138, 139}, common agents/total agents: 10/10\n",
      "frames: [6911, 6917, 6923], common agents: {130, 131, 132, 133, 134, 135, 136, 137, 138, 139}, common agents/total agents: 10/11\n",
      "frames: [6917, 6923, 6929], common agents: {130, 131, 132, 133, 134, 135, 136, 137, 138, 139}, common agents/total agents: 10/11\n",
      "frames: [6923, 6929, 6935], common agents: {130, 131, 132, 133, 134, 135, 136, 137, 138, 139, 140}, common agents/total agents: 11/11\n",
      "frames: [6929, 6935, 6941], common agents: {130, 131, 132, 133, 134, 135, 136, 137, 138, 139, 140}, common agents/total agents: 11/11\n",
      "frames: [6935, 6941, 6947], common agents: {130, 131, 132, 133, 134, 135, 136, 137, 138, 139, 140}, common agents/total agents: 11/11\n",
      "frames: [6941, 6947, 6953], common agents: {130, 131, 132, 133, 134, 135, 136, 137, 138, 139, 140}, common agents/total agents: 11/11\n",
      "frames: [6947, 6953, 6959], common agents: {134, 135, 136, 137, 138, 139, 140}, common agents/total agents: 7/11\n",
      "frames: [6953, 6959, 6965], common agents: {134, 135, 136, 137, 138, 139, 140}, common agents/total agents: 7/11\n",
      "frames: [6959, 6965, 6971], common agents: {135, 136, 137, 138, 139, 140}, common agents/total agents: 6/8\n",
      "frames: [6965, 6971, 6977], common agents: {135, 136, 137, 138, 139, 140}, common agents/total agents: 6/10\n",
      "frames: [6971, 6977, 6983], common agents: {135, 136, 137, 138, 139, 140, 141}, common agents/total agents: 7/9\n",
      "frames: [6977, 6983, 6989], common agents: {135, 136, 137, 138, 139, 140, 141, 142, 143}, common agents/total agents: 9/9\n",
      "frames: [6983, 6989, 6995], common agents: {135, 136, 137, 138, 139, 140, 141, 142, 143}, common agents/total agents: 9/9\n",
      "frames: [6989, 6995, 7001], common agents: {135, 137, 138, 139, 140, 141, 142, 143}, common agents/total agents: 8/9\n",
      "frames: [6995, 7001, 7007], common agents: {137, 138, 139, 140, 141, 142, 143}, common agents/total agents: 7/9\n",
      "frames: [7001, 7007, 7013], common agents: {137, 138, 139, 140, 141, 142, 143}, common agents/total agents: 7/8\n",
      "frames: [7007, 7013, 7019], common agents: {137, 138, 139, 140, 141, 142, 143}, common agents/total agents: 7/7\n",
      "frames: [7013, 7019, 7025], common agents: {137, 138, 139, 140, 141, 142, 143}, common agents/total agents: 7/7\n",
      "frames: [7019, 7025, 7031], common agents: {137, 138, 139, 140, 141, 142, 143}, common agents/total agents: 7/7\n",
      "frames: [7025, 7031, 7037], common agents: {137, 138, 139, 140, 141, 142, 143}, common agents/total agents: 7/7\n",
      "frames: [7397, 7403, 7409], common agents: {145, 146, 147, 148, 149, 150, 151}, common agents/total agents: 7/7\n",
      "frames: [7403, 7409, 7415], common agents: {145, 146, 147, 148, 149, 150, 151}, common agents/total agents: 7/7\n",
      "frames: [7409, 7415, 7421], common agents: {145, 146, 147, 148, 149, 150, 151}, common agents/total agents: 7/8\n",
      "frames: [7415, 7421, 7427], common agents: {145, 146, 147, 148, 149, 150, 151}, common agents/total agents: 7/8\n",
      "frames: [7457, 7463, 7469], common agents: {148, 149, 150, 151, 152, 153, 154, 155}, common agents/total agents: 8/8\n",
      "frames: [7463, 7469, 7475], common agents: {148, 149, 150, 151, 152, 153, 154, 155}, common agents/total agents: 8/8\n",
      "frames: [7469, 7475, 7481], common agents: {148, 149, 150, 151, 152, 153, 154, 155}, common agents/total agents: 8/8\n",
      "frames: [7475, 7481, 7487], common agents: {148, 149, 150, 151, 152, 153, 154, 155}, common agents/total agents: 8/8\n",
      "frames: [7481, 7487, 7493], common agents: {148, 149, 150, 151, 152, 153, 154, 155}, common agents/total agents: 8/8\n",
      "frames: [7487, 7493, 7499], common agents: {148, 149, 150, 151, 152, 153, 154, 155}, common agents/total agents: 8/8\n",
      "frames: [7493, 7499, 7505], common agents: {148, 149, 150, 151, 152, 153, 154, 155}, common agents/total agents: 8/8\n",
      "frames: [7859, 7865, 7871], common agents: {160, 161, 162, 163, 164, 166, 159}, common agents/total agents: 7/8\n",
      "frames: [7865, 7871, 7877], common agents: {160, 161, 162, 163, 164, 166, 159}, common agents/total agents: 7/8\n",
      "frames: [7871, 7877, 7883], common agents: {160, 161, 162, 163, 164, 166, 167, 159}, common agents/total agents: 8/8\n",
      "frames: [7877, 7883, 7889], common agents: {160, 161, 162, 163, 164, 166, 167}, common agents/total agents: 7/8\n",
      "frames: [7883, 7889, 7895], common agents: {160, 161, 162, 163, 164, 166, 167}, common agents/total agents: 7/8\n",
      "frames: [7889, 7895, 7901], common agents: {160, 161, 162, 163, 164, 166, 167}, common agents/total agents: 7/7\n",
      "frames: [7895, 7901, 7907], common agents: {160, 161, 162, 163, 164, 166, 167}, common agents/total agents: 7/7\n",
      "frames: [7901, 7907, 7913], common agents: {160, 161, 162, 163, 164, 166, 167}, common agents/total agents: 7/7\n",
      "frames: [7907, 7913, 7919], common agents: {160, 161, 162, 163, 164, 166, 167}, common agents/total agents: 7/7\n",
      "frames: [7913, 7919, 7925], common agents: {160, 161, 162, 163, 164, 166, 167}, common agents/total agents: 7/7\n",
      "frames: [8373, 8379, 8385], common agents: {171, 174, 175, 176, 177, 178, 179}, common agents/total agents: 7/7\n",
      "frames: [8379, 8385, 8391], common agents: {171, 174, 175, 176, 177, 178, 179}, common agents/total agents: 7/7\n",
      "frames: [8385, 8391, 8397], common agents: {171, 174, 175, 176, 177, 178, 179}, common agents/total agents: 7/12\n",
      "frames: [8391, 8397, 8403], common agents: {171, 174, 175, 176, 177, 178, 179}, common agents/total agents: 7/12\n",
      "frames: [8397, 8403, 8409], common agents: {171, 174, 175, 176, 177, 178, 179, 180, 181, 182, 183, 184}, common agents/total agents: 12/12\n",
      "frames: [8403, 8409, 8415], common agents: {171, 174, 175, 176, 177, 178, 179, 180, 181, 182, 183, 184}, common agents/total agents: 12/12\n",
      "frames: [8409, 8415, 8421], common agents: {171, 174, 175, 176, 177, 178, 179, 180, 181, 182, 183, 184}, common agents/total agents: 12/12\n",
      "frames: [8415, 8421, 8427], common agents: {171, 174, 175, 176, 177, 178, 179, 180, 181, 182, 183, 184}, common agents/total agents: 12/12\n",
      "frames: [8421, 8427, 8433], common agents: {171, 174, 175, 176, 177, 178, 179, 180, 181, 182, 183, 184}, common agents/total agents: 12/12\n",
      "frames: [8427, 8433, 8439], common agents: {171, 174, 175, 176, 177, 178, 179, 180, 181, 182, 183, 184}, common agents/total agents: 12/12\n",
      "frames: [8433, 8439, 8445], common agents: {171, 174, 175, 176, 177, 178, 179, 180, 181, 182, 183, 184}, common agents/total agents: 12/12\n",
      "frames: [8439, 8445, 8451], common agents: {171, 174, 176, 177, 178, 179, 180, 181, 182, 183, 184}, common agents/total agents: 11/12\n",
      "frames: [8445, 8451, 8457], common agents: {171, 174, 176, 177, 178, 179, 180, 181, 182, 183, 184}, common agents/total agents: 11/16\n",
      "frames: [8451, 8457, 8463], common agents: {171, 174, 176, 177, 178, 179, 180, 181, 182, 183, 184}, common agents/total agents: 11/15\n",
      "frames: [8457, 8463, 8469], common agents: {171, 174, 176, 177, 178, 179, 180, 181, 182, 183, 184, 185, 186, 187, 188}, common agents/total agents: 15/15\n",
      "frames: [8463, 8469, 8475], common agents: {171, 176, 177, 178, 179, 180, 181, 182, 183, 184, 185, 186, 187, 188}, common agents/total agents: 14/16\n",
      "frames: [8469, 8475, 8481], common agents: {171, 176, 177, 178, 179, 180, 181, 182, 183, 184, 185, 186, 187, 188}, common agents/total agents: 14/16\n",
      "frames: [8475, 8481, 8487], common agents: {171, 176, 177, 178, 179, 180, 181, 182, 183, 184, 185, 186, 187, 188, 189}, common agents/total agents: 15/15\n",
      "frames: [8481, 8487, 8493], common agents: {171, 177, 178, 179, 180, 181, 182, 183, 184, 185, 186, 187, 188, 189}, common agents/total agents: 14/16\n",
      "frames: [8487, 8493, 8499], common agents: {171, 177, 178, 179, 180, 181, 182, 183, 184, 185, 186, 187, 188, 189}, common agents/total agents: 14/16\n",
      "frames: [8493, 8499, 8505], common agents: {171, 178, 179, 180, 181, 182, 183, 184, 185, 186, 187, 188, 189, 190}, common agents/total agents: 14/16\n",
      "frames: [8499, 8505, 8511], common agents: {171, 178, 179, 180, 181, 182, 183, 184, 185, 186, 187, 188, 189, 190}, common agents/total agents: 14/16\n",
      "frames: [8505, 8511, 8517], common agents: {171, 179, 180, 181, 182, 183, 184, 185, 186, 187, 188, 189, 190, 191}, common agents/total agents: 14/15\n",
      "frames: [8511, 8517, 8523], common agents: {171, 180, 181, 182, 183, 184, 185, 186, 187, 188, 189, 190, 191}, common agents/total agents: 13/15\n",
      "frames: [8517, 8523, 8529], common agents: {171, 180, 181, 183, 184, 185, 186, 187, 188, 189, 190, 191}, common agents/total agents: 12/14\n",
      "frames: [8523, 8529, 8535], common agents: {171, 180, 181, 183, 185, 186, 187, 188, 189, 190, 191}, common agents/total agents: 11/13\n",
      "frames: [8529, 8535, 8541], common agents: {171, 180, 181, 185, 186, 187, 188, 189, 190, 191}, common agents/total agents: 10/12\n",
      "frames: [8535, 8541, 8547], common agents: {171, 180, 181, 185, 186, 187, 188, 189, 190, 191}, common agents/total agents: 10/11\n",
      "frames: [8541, 8547, 8553], common agents: {171, 180, 185, 186, 187, 188, 189, 190, 191}, common agents/total agents: 9/10\n",
      "frames: [8547, 8553, 8559], common agents: {171, 185, 186, 187, 188, 189, 190, 191}, common agents/total agents: 8/10\n",
      "frames: [8553, 8559, 8565], common agents: {171, 185, 186, 187, 188, 189, 190, 191}, common agents/total agents: 8/9\n",
      "frames: [8559, 8565, 8571], common agents: {171, 185, 186, 187, 188, 190, 191}, common agents/total agents: 7/8\n",
      "frames: [8565, 8571, 8577], common agents: {171, 185, 186, 187, 188, 190, 191}, common agents/total agents: 7/8\n",
      "frames: [8571, 8577, 8583], common agents: {171, 185, 186, 187, 188, 190, 191}, common agents/total agents: 7/7\n",
      "frames: [8577, 8583, 8589], common agents: {171, 185, 186, 187, 188, 190, 191}, common agents/total agents: 7/7\n",
      "frames: [8583, 8589, 8595], common agents: {171, 185, 186, 187, 188, 190, 191}, common agents/total agents: 7/7\n",
      "frames: [8589, 8595, 8601], common agents: {171, 185, 186, 187, 188, 190, 191}, common agents/total agents: 7/7\n",
      "frames: [8937, 8943, 8949], common agents: {194, 195, 196, 197, 198, 199, 171}, common agents/total agents: 7/8\n",
      "frames: [8943, 8949, 8955], common agents: {194, 195, 196, 197, 198, 199, 200, 171}, common agents/total agents: 8/9\n",
      "frames: [8949, 8955, 8961], common agents: {194, 195, 196, 197, 198, 199, 200, 171}, common agents/total agents: 8/9\n",
      "frames: [8955, 8961, 8967], common agents: {194, 195, 196, 197, 198, 199, 200, 201, 171}, common agents/total agents: 9/10\n",
      "frames: [8961, 8967, 8973], common agents: {194, 195, 196, 197, 198, 199, 200, 201, 171}, common agents/total agents: 9/11\n",
      "frames: [8967, 8973, 8979], common agents: {194, 195, 196, 197, 198, 199, 200, 201, 202, 171}, common agents/total agents: 10/11\n",
      "frames: [8973, 8979, 8985], common agents: {195, 196, 197, 198, 199, 200, 201, 202, 203, 171}, common agents/total agents: 10/12\n",
      "frames: [8979, 8985, 8991], common agents: {195, 196, 197, 198, 199, 200, 201, 202, 203, 171}, common agents/total agents: 10/13\n",
      "frames: [8985, 8991, 8997], common agents: {195, 196, 197, 198, 199, 200, 201, 202, 203, 204, 171}, common agents/total agents: 11/12\n",
      "frames: [8991, 8997, 9003], common agents: {195, 196, 197, 198, 199, 200, 201, 202, 203, 204, 205, 171}, common agents/total agents: 12/12\n",
      "frames: [8997, 9003, 9009], common agents: {195, 196, 197, 198, 199, 200, 201, 202, 203, 204, 205, 171}, common agents/total agents: 12/12\n",
      "frames: [9003, 9009, 9015], common agents: {195, 196, 197, 198, 199, 200, 201, 202, 203, 204, 205, 171}, common agents/total agents: 12/13\n",
      "frames: [9009, 9015, 9021], common agents: {195, 196, 197, 198, 199, 200, 201, 202, 203, 204, 205, 171}, common agents/total agents: 12/13\n",
      "frames: [9015, 9021, 9027], common agents: {195, 196, 197, 198, 199, 200, 201, 202, 203, 204, 205, 206, 171}, common agents/total agents: 13/13\n",
      "frames: [9021, 9027, 9033], common agents: {195, 196, 197, 198, 199, 200, 201, 202, 203, 204, 205, 206, 171}, common agents/total agents: 13/13\n",
      "frames: [9027, 9033, 9039], common agents: {195, 196, 197, 198, 199, 200, 201, 202, 203, 204, 205, 206, 171}, common agents/total agents: 13/13\n",
      "frames: [9033, 9039, 9045], common agents: {195, 196, 197, 198, 199, 200, 201, 202, 203, 204, 205, 206, 171}, common agents/total agents: 13/13\n",
      "frames: [9039, 9045, 9051], common agents: {195, 196, 197, 198, 199, 200, 201, 202, 203, 204, 205, 206, 171}, common agents/total agents: 13/14\n",
      "frames: [9045, 9051, 9057], common agents: {195, 196, 197, 198, 200, 201, 202, 203, 204, 205, 206, 171}, common agents/total agents: 12/14\n",
      "frames: [9051, 9057, 9063], common agents: {195, 196, 197, 198, 200, 201, 202, 203, 204, 205, 206, 207, 171}, common agents/total agents: 13/14\n",
      "frames: [9057, 9063, 9069], common agents: {195, 196, 197, 198, 200, 201, 202, 203, 204, 205, 206, 207, 171}, common agents/total agents: 13/13\n",
      "frames: [9063, 9069, 9075], common agents: {195, 196, 197, 198, 200, 201, 202, 203, 204, 205, 206, 207, 171}, common agents/total agents: 13/13\n",
      "frames: [9069, 9075, 9081], common agents: {195, 196, 197, 198, 200, 201, 202, 203, 204, 205, 206, 207, 171}, common agents/total agents: 13/14\n",
      "frames: [9075, 9081, 9087], common agents: {195, 196, 197, 198, 200, 201, 202, 203, 204, 205, 206, 207, 171}, common agents/total agents: 13/15\n",
      "frames: [9081, 9087, 9093], common agents: {195, 196, 197, 198, 200, 201, 202, 203, 204, 205, 206, 207, 208, 171}, common agents/total agents: 14/15\n",
      "frames: [9087, 9093, 9099], common agents: {195, 196, 197, 198, 200, 201, 202, 203, 204, 205, 206, 207, 208, 209, 171}, common agents/total agents: 15/15\n",
      "frames: [9093, 9099, 9105], common agents: {196, 197, 200, 201, 202, 203, 204, 205, 206, 207, 208, 209, 171}, common agents/total agents: 13/17\n",
      "frames: [9099, 9105, 9111], common agents: {196, 197, 200, 201, 202, 203, 204, 205, 206, 207, 208, 209, 171}, common agents/total agents: 13/17\n",
      "frames: [9105, 9111, 9117], common agents: {200, 201, 202, 203, 204, 205, 206, 207, 208, 209, 171, 211, 210}, common agents/total agents: 13/15\n",
      "frames: [9111, 9117, 9123], common agents: {200, 202, 203, 204, 205, 206, 207, 208, 209, 171, 211, 210}, common agents/total agents: 12/15\n",
      "frames: [9117, 9123, 9129], common agents: {202, 203, 204, 171, 206, 207, 208, 209, 210, 211}, common agents/total agents: 10/13\n",
      "frames: [9123, 9129, 9135], common agents: {202, 203, 171, 206, 207, 208, 209, 210, 211}, common agents/total agents: 9/12\n",
      "frames: [9129, 9135, 9141], common agents: {171, 206, 207, 208, 209, 210, 211}, common agents/total agents: 7/10\n",
      "frames: [9213, 9219, 9225], common agents: {171, 208, 209, 210, 211, 212, 213, 214}, common agents/total agents: 8/8\n",
      "frames: [9219, 9225, 9231], common agents: {171, 209, 210, 211, 212, 213, 214}, common agents/total agents: 7/8\n",
      "frames: [9225, 9231, 9237], common agents: {171, 209, 210, 211, 212, 213, 214}, common agents/total agents: 7/8\n",
      "frames: [9303, 9309, 9315], common agents: {212, 213, 214, 215, 216, 217, 218}, common agents/total agents: 7/7\n",
      "frames: [9309, 9315, 9321], common agents: {212, 213, 214, 215, 216, 217, 218}, common agents/total agents: 7/7\n",
      "frames: [9315, 9321, 9327], common agents: {212, 213, 214, 215, 216, 217, 218}, common agents/total agents: 7/7\n",
      "frames: [9321, 9327, 9333], common agents: {212, 213, 214, 215, 216, 217, 218}, common agents/total agents: 7/7\n",
      "frames: [9327, 9333, 9339], common agents: {212, 213, 214, 215, 216, 217, 218}, common agents/total agents: 7/7\n",
      "frames: [9333, 9339, 9345], common agents: {212, 213, 214, 215, 216, 217, 218}, common agents/total agents: 7/7\n",
      "frames: [9339, 9345, 9351], common agents: {212, 213, 214, 215, 216, 217, 218}, common agents/total agents: 7/7\n",
      "frames: [9345, 9351, 9357], common agents: {212, 213, 214, 215, 216, 217, 218}, common agents/total agents: 7/7\n",
      "frames: [9417, 9423, 9429], common agents: {215, 216, 217, 218, 219, 220, 221}, common agents/total agents: 7/7\n",
      "frames: [9423, 9429, 9435], common agents: {215, 216, 217, 218, 219, 220, 221}, common agents/total agents: 7/7\n",
      "frames: [9627, 9633, 9639], common agents: {224, 226, 227, 228, 216, 222, 223}, common agents/total agents: 7/7\n",
      "frames: [9675, 9681, 9687], common agents: {226, 227, 228, 229, 230, 231, 216}, common agents/total agents: 7/7\n",
      "frames: [9681, 9687, 9693], common agents: {226, 227, 228, 229, 230, 231, 216}, common agents/total agents: 7/7\n",
      "frames: [9687, 9693, 9699], common agents: {226, 227, 228, 229, 230, 231, 216}, common agents/total agents: 7/7\n",
      "frames: [9693, 9699, 9705], common agents: {226, 227, 228, 229, 230, 231, 216}, common agents/total agents: 7/7\n",
      "frames: [9699, 9705, 9711], common agents: {226, 227, 228, 229, 230, 231, 216}, common agents/total agents: 7/7\n",
      "frames: [9705, 9711, 9717], common agents: {226, 227, 228, 229, 230, 231, 216}, common agents/total agents: 7/7\n",
      "frames: [9711, 9717, 9723], common agents: {226, 227, 228, 229, 230, 231, 216}, common agents/total agents: 7/7\n",
      "frames: [9717, 9723, 9729], common agents: {226, 227, 228, 229, 230, 231, 216}, common agents/total agents: 7/7\n",
      "frames: [9825, 9831, 9837], common agents: {230, 231, 232, 233, 234, 235, 216}, common agents/total agents: 7/7\n",
      "frames: [9831, 9837, 9843], common agents: {230, 231, 232, 233, 234, 235, 216}, common agents/total agents: 7/7\n",
      "frames: [9837, 9843, 9849], common agents: {230, 231, 232, 233, 234, 235, 216}, common agents/total agents: 7/7\n",
      "frames: [9843, 9849, 9855], common agents: {230, 231, 232, 233, 234, 235, 216}, common agents/total agents: 7/7\n",
      "frames: [9849, 9855, 9861], common agents: {230, 231, 232, 233, 234, 235, 216}, common agents/total agents: 7/7\n",
      "frames: [9855, 9861, 9867], common agents: {230, 231, 232, 233, 234, 235, 216}, common agents/total agents: 7/8\n",
      "frames: [9861, 9867, 9873], common agents: {230, 231, 232, 233, 234, 235, 216}, common agents/total agents: 7/8\n",
      "frames: [9867, 9873, 9879], common agents: {230, 231, 232, 233, 234, 235, 236, 216}, common agents/total agents: 8/8\n",
      "frames: [9873, 9879, 9885], common agents: {230, 231, 232, 233, 234, 235, 236, 216}, common agents/total agents: 8/8\n",
      "frames: [9879, 9885, 9891], common agents: {230, 231, 232, 233, 234, 235, 236, 216}, common agents/total agents: 8/8\n",
      "frames: [9885, 9891, 9897], common agents: {230, 231, 232, 234, 235, 236, 216}, common agents/total agents: 7/8\n",
      "frames: [9891, 9897, 9903], common agents: {230, 231, 232, 234, 235, 236, 216}, common agents/total agents: 7/8\n",
      "frames: [9915, 9921, 9927], common agents: {230, 231, 236, 237, 238, 239, 240, 241, 242}, common agents/total agents: 9/10\n",
      "frames: [9921, 9927, 9933], common agents: {230, 231, 236, 237, 238, 239, 240, 241, 242}, common agents/total agents: 9/10\n",
      "frames: [9927, 9933, 9939], common agents: {230, 231, 236, 237, 238, 239, 240, 241, 242, 243}, common agents/total agents: 10/10\n",
      "frames: [9933, 9939, 9945], common agents: {230, 231, 236, 237, 238, 239, 240, 241, 242, 243}, common agents/total agents: 10/10\n",
      "frames: [9939, 9945, 9951], common agents: {230, 231, 236, 237, 238, 239, 240, 241, 242, 243}, common agents/total agents: 10/10\n",
      "frames: [9945, 9951, 9957], common agents: {230, 231, 236, 237, 238, 239, 240, 241, 242, 243}, common agents/total agents: 10/10\n",
      "frames: [9951, 9957, 9963], common agents: {230, 231, 236, 237, 238, 239, 240, 241, 242, 243}, common agents/total agents: 10/10\n",
      "frames: [9957, 9963, 9969], common agents: {230, 231, 236, 237, 238, 239, 240, 241, 242, 243}, common agents/total agents: 10/11\n",
      "frames: [9963, 9969, 9975], common agents: {230, 231, 236, 237, 238, 239, 240, 241, 242, 243}, common agents/total agents: 10/11\n",
      "frames: [9969, 9975, 9981], common agents: {236, 237, 238, 239, 240, 241, 242, 243, 244}, common agents/total agents: 9/11\n",
      "frames: [9975, 9981, 9987], common agents: {236, 237, 238, 239, 240, 241, 242, 243, 244}, common agents/total agents: 9/11\n",
      "frames: [9981, 9987, 9993], common agents: {236, 237, 238, 239, 240, 241, 242, 243, 244}, common agents/total agents: 9/9\n",
      "frames: [9987, 9993, 9999], common agents: {236, 237, 238, 239, 240, 241, 242, 243, 244}, common agents/total agents: 9/9\n",
      "frames: [9993, 9999, 10005], common agents: {236, 237, 238, 239, 240, 241, 242, 243, 244}, common agents/total agents: 9/9\n",
      "frames: [9999, 10005, 10011], common agents: {236, 237, 238, 239, 240, 241, 242, 243, 244}, common agents/total agents: 9/9\n",
      "frames: [10005, 10011, 10017], common agents: {236, 237, 238, 239, 240, 241, 242, 243, 244}, common agents/total agents: 9/9\n",
      "frames: [10011, 10017, 10023], common agents: {237, 238, 239, 240, 241, 242, 243, 244}, common agents/total agents: 8/9\n",
      "frames: [10017, 10023, 10029], common agents: {237, 238, 239, 240, 241, 242, 243, 244}, common agents/total agents: 8/9\n",
      "frames: [10023, 10029, 10035], common agents: {237, 238, 239, 240, 241, 242, 243, 244}, common agents/total agents: 8/8\n",
      "frames: [10197, 10203, 10209], common agents: {238, 247, 248, 249, 250, 251, 252, 253}, common agents/total agents: 8/8\n",
      "frames: [10203, 10209, 10215], common agents: {238, 247, 248, 249, 250, 251, 252, 253}, common agents/total agents: 8/9\n",
      "frames: [10209, 10215, 10221], common agents: {238, 247, 248, 249, 250, 251, 252, 253}, common agents/total agents: 8/11\n",
      "frames: [10215, 10221, 10227], common agents: {238, 247, 248, 249, 250, 251, 252, 253, 254}, common agents/total agents: 9/11\n",
      "frames: [10221, 10227, 10233], common agents: {256, 238, 247, 248, 250, 251, 252, 253, 254, 255}, common agents/total agents: 10/11\n",
      "frames: [10227, 10233, 10239], common agents: {256, 238, 247, 248, 250, 251, 252, 253, 254, 255}, common agents/total agents: 10/11\n",
      "frames: [10233, 10239, 10245], common agents: {256, 238, 247, 248, 250, 251, 252, 253, 254, 255}, common agents/total agents: 10/11\n",
      "frames: [10239, 10245, 10251], common agents: {256, 238, 247, 248, 250, 251, 252, 253, 254, 255}, common agents/total agents: 10/13\n",
      "frames: [10245, 10251, 10257], common agents: {256, 257, 238, 247, 248, 250, 251, 252, 253, 254, 255}, common agents/total agents: 11/14\n",
      "frames: [10251, 10257, 10263], common agents: {256, 257, 258, 259, 238, 247, 248, 250, 251, 252, 253, 254, 255}, common agents/total agents: 13/14\n",
      "frames: [10257, 10263, 10269], common agents: {256, 257, 258, 259, 260, 238, 247, 250, 251, 252, 253, 254, 255}, common agents/total agents: 13/14\n",
      "frames: [10263, 10269, 10275], common agents: {256, 257, 258, 259, 260, 238, 247, 250, 251, 252, 253, 254, 255}, common agents/total agents: 13/15\n",
      "frames: [10269, 10275, 10281], common agents: {256, 257, 258, 259, 260, 238, 250, 251, 252, 253, 254, 255}, common agents/total agents: 12/14\n",
      "frames: [10275, 10281, 10287], common agents: {256, 257, 258, 259, 260, 261, 238, 250, 251, 252, 253, 254, 255}, common agents/total agents: 13/14\n",
      "frames: [10281, 10287, 10293], common agents: {256, 257, 258, 259, 260, 261, 238, 250, 251, 252, 253, 254, 255}, common agents/total agents: 13/14\n",
      "frames: [10287, 10293, 10299], common agents: {256, 257, 258, 259, 260, 261, 238, 250, 251, 252, 253, 254, 255}, common agents/total agents: 13/23\n",
      "frames: [10293, 10299, 10305], common agents: {256, 257, 258, 259, 260, 261, 262, 238, 250, 251, 252, 253, 254, 255}, common agents/total agents: 14/23\n",
      "frames: [10299, 10305, 10311], common agents: {256, 257, 258, 259, 260, 261, 262, 263, 264, 265, 266, 267, 268, 269, 270, 272, 238, 250, 252, 253, 254, 255}, common agents/total agents: 22/23\n",
      "frames: [10305, 10311, 10317], common agents: {256, 257, 258, 259, 260, 261, 262, 263, 264, 265, 266, 267, 268, 269, 270, 272, 238, 250, 252, 253, 254, 255}, common agents/total agents: 22/23\n",
      "frames: [10311, 10317, 10323], common agents: {256, 257, 258, 259, 260, 261, 262, 263, 264, 265, 266, 267, 268, 269, 270, 272, 238, 250, 252, 253, 254, 255}, common agents/total agents: 22/23\n",
      "frames: [10317, 10323, 10329], common agents: {256, 257, 258, 259, 260, 261, 262, 263, 264, 265, 266, 267, 268, 269, 270, 272, 238, 250, 252, 254, 255}, common agents/total agents: 21/24\n",
      "frames: [10323, 10329, 10335], common agents: {256, 257, 258, 259, 260, 261, 262, 263, 264, 265, 266, 267, 268, 269, 270, 272, 273, 238, 250, 252, 254, 255}, common agents/total agents: 22/24\n",
      "frames: [10329, 10335, 10341], common agents: {256, 257, 258, 259, 260, 261, 262, 263, 264, 265, 266, 267, 268, 269, 270, 272, 273, 274, 238, 250, 252, 254, 255}, common agents/total agents: 23/23\n",
      "frames: [10335, 10341, 10347], common agents: {256, 257, 258, 259, 260, 261, 262, 263, 264, 265, 266, 267, 268, 269, 270, 272, 273, 274, 238, 250, 252, 254, 255}, common agents/total agents: 23/24\n",
      "frames: [10341, 10347, 10353], common agents: {256, 257, 258, 259, 260, 261, 262, 263, 264, 265, 266, 267, 268, 269, 270, 272, 273, 274, 238, 250, 252, 254, 255}, common agents/total agents: 23/24\n",
      "frames: [10347, 10353, 10359], common agents: {256, 257, 258, 259, 260, 261, 262, 263, 264, 265, 266, 267, 268, 269, 270, 272, 273, 274, 275, 238, 250, 254, 255}, common agents/total agents: 23/26\n",
      "frames: [10353, 10359, 10365], common agents: {256, 257, 258, 259, 260, 261, 262, 263, 264, 265, 266, 267, 268, 269, 270, 272, 273, 274, 275, 238, 250, 254, 255}, common agents/total agents: 23/27\n",
      "frames: [10359, 10365, 10371], common agents: {256, 257, 258, 259, 260, 261, 262, 263, 264, 265, 266, 267, 268, 269, 270, 272, 273, 274, 275, 276, 277, 238, 250, 254, 255}, common agents/total agents: 25/26\n",
      "frames: [10365, 10371, 10377], common agents: {256, 257, 258, 259, 260, 261, 262, 263, 264, 265, 266, 267, 268, 269, 270, 272, 273, 274, 275, 276, 277, 278, 238, 250, 255}, common agents/total agents: 25/27\n",
      "frames: [10371, 10377, 10383], common agents: {256, 257, 258, 259, 260, 261, 262, 263, 264, 265, 266, 267, 268, 269, 270, 272, 273, 274, 275, 276, 277, 278, 238, 250, 255}, common agents/total agents: 25/28\n",
      "frames: [10377, 10383, 10389], common agents: {257, 258, 259, 260, 261, 262, 263, 264, 265, 266, 267, 268, 269, 270, 272, 273, 274, 275, 276, 277, 278, 279, 238}, common agents/total agents: 23/27\n",
      "frames: [10383, 10389, 10395], common agents: {257, 258, 259, 260, 261, 262, 263, 264, 265, 266, 267, 268, 269, 270, 272, 273, 274, 275, 276, 277, 278, 279, 280, 238}, common agents/total agents: 24/28\n",
      "frames: [10389, 10395, 10401], common agents: {257, 258, 259, 260, 261, 262, 263, 264, 265, 266, 267, 268, 269, 270, 272, 273, 275, 276, 277, 278, 279, 280, 238}, common agents/total agents: 23/25\n",
      "frames: [10395, 10401, 10407], common agents: {257, 258, 259, 260, 261, 262, 263, 264, 265, 266, 267, 268, 269, 270, 272, 273, 275, 276, 277, 278, 279, 280, 281, 238}, common agents/total agents: 24/25\n",
      "frames: [10401, 10407, 10413], common agents: {257, 258, 259, 260, 261, 262, 263, 264, 265, 266, 267, 268, 269, 270, 272, 273, 275, 276, 278, 279, 280, 281, 238}, common agents/total agents: 23/24\n",
      "frames: [10407, 10413, 10419], common agents: {257, 258, 259, 260, 261, 262, 263, 264, 265, 266, 267, 268, 269, 270, 272, 273, 275, 276, 278, 279, 280, 281, 238}, common agents/total agents: 23/25\n",
      "frames: [10413, 10419, 10425], common agents: {257, 258, 259, 260, 261, 262, 263, 264, 265, 266, 267, 268, 269, 270, 273, 275, 276, 278, 279, 280, 281, 238}, common agents/total agents: 22/25\n",
      "frames: [10419, 10425, 10431], common agents: {257, 258, 259, 260, 261, 262, 263, 264, 265, 266, 267, 268, 269, 270, 273, 275, 276, 278, 279, 280, 281, 283, 238}, common agents/total agents: 23/25\n",
      "frames: [10425, 10431, 10437], common agents: {257, 258, 259, 260, 261, 262, 263, 264, 265, 266, 267, 268, 269, 270, 273, 275, 276, 278, 279, 280, 281, 283, 284, 238}, common agents/total agents: 24/26\n",
      "frames: [10431, 10437, 10443], common agents: {257, 259, 260, 261, 262, 263, 264, 265, 266, 267, 268, 270, 273, 275, 276, 278, 279, 280, 281, 283, 284, 238}, common agents/total agents: 22/27\n",
      "frames: [10437, 10443, 10449], common agents: {257, 259, 260, 261, 262, 263, 264, 265, 266, 267, 268, 270, 273, 275, 276, 278, 279, 280, 281, 283, 284, 285, 286, 238}, common agents/total agents: 24/27\n",
      "frames: [10443, 10449, 10455], common agents: {257, 259, 260, 261, 262, 263, 264, 265, 266, 267, 268, 273, 275, 276, 278, 279, 280, 281, 283, 284, 285, 286, 287, 238}, common agents/total agents: 24/25\n",
      "frames: [10449, 10455, 10461], common agents: {257, 260, 261, 262, 263, 264, 265, 266, 267, 268, 273, 275, 276, 278, 279, 280, 281, 283, 284, 285, 286, 287, 238}, common agents/total agents: 23/26\n",
      "frames: [10455, 10461, 10467], common agents: {257, 260, 261, 262, 263, 264, 265, 266, 267, 268, 273, 275, 276, 278, 279, 280, 281, 283, 284, 285, 286, 287, 238}, common agents/total agents: 23/25\n",
      "frames: [10461, 10467, 10473], common agents: {263, 264, 265, 266, 267, 268, 273, 275, 276, 278, 279, 280, 281, 283, 284, 285, 286, 287, 289, 238}, common agents/total agents: 20/24\n",
      "frames: [10467, 10473, 10479], common agents: {289, 263, 264, 265, 267, 268, 238, 275, 276, 278, 279, 280, 281, 283, 285, 286, 287}, common agents/total agents: 17/24\n",
      "frames: [10473, 10479, 10485], common agents: {289, 263, 264, 265, 267, 268, 275, 276, 278, 279, 280, 281, 283, 285, 286, 287}, common agents/total agents: 16/21\n",
      "frames: [10479, 10485, 10491], common agents: {289, 263, 264, 265, 267, 268, 275, 276, 278, 279, 280, 281, 283, 285, 286, 287}, common agents/total agents: 16/18\n",
      "frames: [10485, 10491, 10497], common agents: {289, 291, 263, 264, 265, 267, 268, 275, 276, 278, 279, 280, 281, 283, 285, 286, 287}, common agents/total agents: 17/17\n",
      "frames: [10491, 10497, 10503], common agents: {289, 291, 263, 264, 265, 267, 268, 275, 276, 278, 279, 280, 281, 283, 285, 286, 287}, common agents/total agents: 17/17\n",
      "frames: [10497, 10503, 10509], common agents: {289, 291, 263, 264, 267, 275, 276, 278, 279, 280, 281, 283, 285, 286, 287}, common agents/total agents: 15/17\n",
      "frames: [10503, 10509, 10515], common agents: {289, 291, 263, 264, 267, 275, 276, 278, 279, 280, 281, 283, 285, 286, 287}, common agents/total agents: 15/17\n",
      "frames: [10509, 10515, 10521], common agents: {289, 291, 263, 264, 267, 275, 276, 278, 279, 280, 281, 283, 285, 287}, common agents/total agents: 14/15\n",
      "frames: [10515, 10521, 10527], common agents: {289, 291, 263, 264, 267, 275, 276, 278, 279, 280, 281, 283, 285, 287}, common agents/total agents: 14/15\n",
      "frames: [10665, 10671, 10677], common agents: {293, 294, 295, 296, 297, 298, 299, 300, 301, 302}, common agents/total agents: 10/10\n",
      "frames: [10671, 10677, 10683], common agents: {293, 294, 295, 296, 297, 298, 299, 300, 301, 302}, common agents/total agents: 10/10\n",
      "frames: [10677, 10683, 10689], common agents: {293, 294, 295, 296, 297, 298, 299, 300, 301, 302}, common agents/total agents: 10/11\n",
      "frames: [10683, 10689, 10695], common agents: {293, 294, 295, 296, 297, 298, 299, 300, 301, 302}, common agents/total agents: 10/11\n",
      "frames: [10689, 10695, 10701], common agents: {293, 294, 295, 296, 297, 298, 299, 300, 301, 302, 303}, common agents/total agents: 11/12\n",
      "frames: [10695, 10701, 10707], common agents: {293, 294, 295, 296, 297, 298, 299, 300, 301, 302, 303}, common agents/total agents: 11/12\n",
      "frames: [10701, 10707, 10713], common agents: {293, 294, 295, 296, 297, 298, 299, 300, 301, 302, 303, 304}, common agents/total agents: 12/12\n",
      "frames: [10707, 10713, 10719], common agents: {293, 294, 295, 296, 297, 298, 299, 300, 301, 302, 303, 304}, common agents/total agents: 12/13\n",
      "frames: [10713, 10719, 10725], common agents: {294, 295, 296, 297, 298, 299, 300, 301, 302, 303, 304}, common agents/total agents: 11/13\n",
      "frames: [10719, 10725, 10731], common agents: {294, 295, 296, 297, 298, 299, 300, 301, 302, 303, 304, 305}, common agents/total agents: 12/13\n",
      "frames: [10725, 10731, 10737], common agents: {294, 295, 296, 297, 298, 299, 300, 301, 302, 303, 304, 305}, common agents/total agents: 12/12\n",
      "frames: [10731, 10737, 10743], common agents: {294, 295, 296, 297, 298, 300, 301, 302, 303, 304, 305}, common agents/total agents: 11/12\n",
      "frames: [10737, 10743, 10749], common agents: {294, 295, 296, 297, 298, 300, 301, 302, 303, 304, 305}, common agents/total agents: 11/12\n",
      "frames: [10743, 10749, 10755], common agents: {294, 295, 296, 297, 298, 300, 301, 302, 303, 304, 305}, common agents/total agents: 11/11\n",
      "frames: [10749, 10755, 10761], common agents: {294, 300, 301, 302, 303, 304, 305}, common agents/total agents: 7/11\n",
      "frames: [10779, 10785, 10791], common agents: {294, 303, 304, 305, 306, 307, 308, 309, 310}, common agents/total agents: 9/10\n",
      "frames: [10785, 10791, 10797], common agents: {294, 303, 304, 305, 306, 307, 308, 309, 310}, common agents/total agents: 9/9\n",
      "frames: [10791, 10797, 10803], common agents: {303, 304, 305, 306, 307, 308, 309, 310}, common agents/total agents: 8/9\n",
      "frames: [10797, 10803, 10809], common agents: {303, 304, 305, 306, 307, 308, 309, 310}, common agents/total agents: 8/13\n",
      "frames: [10803, 10809, 10815], common agents: {303, 304, 305, 306, 307, 308, 309, 310}, common agents/total agents: 8/12\n",
      "frames: [10809, 10815, 10821], common agents: {303, 304, 305, 306, 307, 308, 309, 310, 311, 312, 313, 314}, common agents/total agents: 12/12\n",
      "frames: [10815, 10821, 10827], common agents: {303, 304, 305, 306, 307, 308, 309, 310, 311, 312, 313, 314}, common agents/total agents: 12/12\n",
      "frames: [10821, 10827, 10833], common agents: {303, 304, 305, 306, 307, 308, 309, 310, 311, 312, 313, 314}, common agents/total agents: 12/12\n",
      "frames: [10827, 10833, 10839], common agents: {303, 304, 305, 306, 307, 308, 309, 310, 311, 312, 313, 314}, common agents/total agents: 12/13\n",
      "frames: [10833, 10839, 10845], common agents: {303, 304, 305, 306, 307, 308, 309, 310, 311, 312, 313, 314}, common agents/total agents: 12/13\n",
      "frames: [10839, 10845, 10851], common agents: {303, 304, 306, 307, 308, 309, 310, 311, 312, 313, 314, 315}, common agents/total agents: 12/14\n",
      "frames: [10845, 10851, 10857], common agents: {303, 304, 306, 307, 308, 309, 310, 311, 312, 313, 314, 315}, common agents/total agents: 12/14\n",
      "frames: [10851, 10857, 10863], common agents: {303, 304, 307, 308, 309, 310, 311, 312, 313, 314, 315, 316}, common agents/total agents: 12/13\n",
      "frames: [10857, 10863, 10869], common agents: {303, 304, 307, 308, 309, 310, 311, 312, 313, 314, 315, 316}, common agents/total agents: 12/13\n",
      "frames: [10863, 10869, 10875], common agents: {303, 304, 307, 308, 309, 310, 311, 312, 313, 314, 315, 316}, common agents/total agents: 12/12\n",
      "frames: [10869, 10875, 10881], common agents: {303, 304, 307, 308, 309, 310, 311, 312, 313, 314, 315, 316}, common agents/total agents: 12/12\n",
      "frames: [10875, 10881, 10887], common agents: {307, 308, 309, 310, 311, 312, 313, 314, 315, 316}, common agents/total agents: 10/12\n",
      "frames: [10881, 10887, 10893], common agents: {307, 308, 309, 310, 311, 312, 313, 314, 315, 316}, common agents/total agents: 10/12\n",
      "frames: [10887, 10893, 10899], common agents: {307, 308, 309, 310, 311, 312, 313, 314, 315, 316}, common agents/total agents: 10/10\n",
      "frames: [10893, 10899, 10905], common agents: {307, 308, 309, 310, 311, 312, 313, 314, 315, 316}, common agents/total agents: 10/10\n",
      "frames: [10899, 10905, 10911], common agents: {307, 308, 309, 310, 311, 312, 313, 314, 315, 316}, common agents/total agents: 10/10\n",
      "frames: [10905, 10911, 10917], common agents: {307, 308, 309, 311, 312, 313, 314, 315, 316}, common agents/total agents: 9/10\n",
      "frames: [10911, 10917, 10923], common agents: {308, 309, 311, 312, 313, 314, 315, 316}, common agents/total agents: 8/10\n",
      "frames: [11283, 11289, 11295], common agents: {320, 321, 322, 323, 324, 325, 326, 327, 328, 329, 319}, common agents/total agents: 11/12\n",
      "frames: [11289, 11295, 11301], common agents: {320, 321, 322, 323, 324, 325, 326, 327, 328, 329, 330, 319}, common agents/total agents: 12/12\n",
      "frames: [11295, 11301, 11307], common agents: {320, 321, 322, 323, 324, 325, 326, 327, 328, 329, 330, 319}, common agents/total agents: 12/13\n",
      "frames: [11301, 11307, 11313], common agents: {320, 321, 322, 323, 324, 325, 326, 327, 328, 329, 330, 319}, common agents/total agents: 12/13\n",
      "frames: [11307, 11313, 11319], common agents: {320, 321, 322, 323, 324, 325, 326, 327, 328, 329, 330, 331, 319}, common agents/total agents: 13/13\n",
      "frames: [11313, 11319, 11325], common agents: {320, 321, 322, 323, 324, 325, 326, 327, 328, 329, 330, 331, 319}, common agents/total agents: 13/13\n",
      "frames: [11319, 11325, 11331], common agents: {320, 321, 322, 323, 324, 325, 326, 327, 328, 329, 330, 331, 319}, common agents/total agents: 13/13\n",
      "frames: [11325, 11331, 11337], common agents: {320, 321, 322, 323, 324, 325, 326, 327, 328, 329, 330, 331, 319}, common agents/total agents: 13/13\n",
      "frames: [11331, 11337, 11343], common agents: {320, 321, 322, 323, 324, 325, 326, 327, 328, 329, 330, 331, 319}, common agents/total agents: 13/13\n",
      "frames: [11337, 11343, 11349], common agents: {320, 321, 322, 323, 324, 325, 326, 327, 328, 329, 330, 331, 319}, common agents/total agents: 13/13\n",
      "frames: [11343, 11349, 11355], common agents: {320, 321, 322, 323, 324, 325, 326, 327, 328, 329, 330, 331, 319}, common agents/total agents: 13/13\n",
      "frames: [11349, 11355, 11361], common agents: {320, 321, 322, 323, 324, 325, 326, 327, 328, 329, 330, 331, 319}, common agents/total agents: 13/13\n",
      "frames: [11355, 11361, 11367], common agents: {320, 321, 322, 323, 324, 325, 326, 327, 328, 329, 330, 331, 319}, common agents/total agents: 13/13\n",
      "frames: [11361, 11367, 11373], common agents: {320, 321, 322, 323, 324, 325, 326, 327, 328, 329, 330, 331, 319}, common agents/total agents: 13/14\n",
      "frames: [11367, 11373, 11379], common agents: {320, 321, 322, 323, 324, 325, 326, 327, 328, 329, 330, 331, 319}, common agents/total agents: 13/14\n",
      "frames: [11373, 11379, 11385], common agents: {320, 321, 322, 323, 324, 325, 326, 327, 328, 329, 330, 331, 332, 319}, common agents/total agents: 14/15\n",
      "frames: [11379, 11385, 11391], common agents: {320, 321, 322, 323, 324, 325, 326, 327, 328, 329, 330, 331, 332}, common agents/total agents: 13/20\n",
      "frames: [11385, 11391, 11397], common agents: {320, 321, 322, 323, 324, 325, 326, 327, 328, 329, 330, 331, 332, 333}, common agents/total agents: 14/20\n",
      "frames: [11391, 11397, 11403], common agents: {320, 321, 322, 323, 324, 325, 326, 327, 328, 329, 330, 331, 332, 333, 334, 335, 336, 337, 338}, common agents/total agents: 19/19\n",
      "frames: [11397, 11403, 11409], common agents: {320, 321, 322, 323, 324, 325, 326, 327, 328, 329, 330, 331, 332, 333, 334, 335, 336, 337, 338}, common agents/total agents: 19/19\n",
      "frames: [11403, 11409, 11415], common agents: {325, 326, 327, 328, 329, 330, 331, 332, 333, 334, 335, 336, 337, 338}, common agents/total agents: 14/19\n",
      "frames: [11409, 11415, 11421], common agents: {325, 326, 327, 328, 329, 330, 331, 332, 333, 334, 335, 336, 337, 338}, common agents/total agents: 14/19\n",
      "frames: [11415, 11421, 11427], common agents: {325, 326, 327, 328, 329, 331, 332, 333, 334, 335, 336, 337, 338}, common agents/total agents: 13/14\n",
      "frames: [11421, 11427, 11433], common agents: {325, 326, 327, 328, 329, 331, 332, 333, 334, 335, 336, 337, 338}, common agents/total agents: 13/14\n",
      "frames: [11427, 11433, 11439], common agents: {325, 326, 327, 328, 329, 331, 332, 333, 334, 335, 336, 337, 338}, common agents/total agents: 13/13\n",
      "frames: [11433, 11439, 11445], common agents: {325, 326, 327, 328, 329, 331, 332, 333, 334, 335, 336, 337, 338}, common agents/total agents: 13/13\n",
      "frames: [11439, 11445, 11451], common agents: {325, 326, 327, 328, 329, 331, 332, 333, 334, 335, 336, 337, 338}, common agents/total agents: 13/13\n",
      "frames: [11445, 11451, 11457], common agents: {325, 327, 328, 329, 331, 332, 333, 334, 335, 336, 337, 338}, common agents/total agents: 12/13\n",
      "frames: [11451, 11457, 11463], common agents: {327, 328, 329, 331, 332, 333, 334, 335, 336, 337, 338}, common agents/total agents: 11/13\n",
      "frames: [11457, 11463, 11469], common agents: {327, 328, 329, 331, 332, 333, 334, 335, 336, 337, 338}, common agents/total agents: 11/12\n",
      "frames: [11463, 11469, 11475], common agents: {328, 329, 331, 332, 333, 334, 335, 336, 337, 338}, common agents/total agents: 10/11\n",
      "frames: [11469, 11475, 11481], common agents: {328, 331, 332, 333, 334, 335, 336, 337, 338}, common agents/total agents: 9/11\n",
      "frames: [11475, 11481, 11487], common agents: {328, 331, 332, 333, 334, 335, 336, 337, 338}, common agents/total agents: 9/10\n",
      "frames: [11481, 11487, 11493], common agents: {331, 332, 333, 334, 335, 336, 337, 338}, common agents/total agents: 8/9\n",
      "frames: [11487, 11493, 11499], common agents: {331, 332, 333, 334, 335, 336, 337, 338}, common agents/total agents: 8/9\n",
      "frames: [11883, 11889, 11895], common agents: {342, 343, 344, 345, 346, 347, 348}, common agents/total agents: 7/8\n",
      "frames: [11889, 11895, 11901], common agents: {342, 343, 344, 345, 346, 347, 348}, common agents/total agents: 7/8\n",
      "frames: [11895, 11901, 11907], common agents: {342, 343, 344, 345, 346, 347, 348, 349}, common agents/total agents: 8/8\n",
      "frames: [11901, 11907, 11913], common agents: {342, 343, 344, 345, 346, 347, 348, 349}, common agents/total agents: 8/8\n",
      "frames: [11907, 11913, 11919], common agents: {342, 343, 344, 345, 346, 347, 348, 349}, common agents/total agents: 8/8\n",
      "frames: [11913, 11919, 11925], common agents: {342, 343, 344, 345, 346, 347, 348, 349}, common agents/total agents: 8/8\n",
      "frames: [11919, 11925, 11931], common agents: {342, 343, 344, 345, 346, 347, 348, 349}, common agents/total agents: 8/9\n",
      "frames: [11925, 11931, 11937], common agents: {342, 343, 344, 345, 346, 347, 348, 349}, common agents/total agents: 8/12\n",
      "frames: [11931, 11937, 11943], common agents: {342, 343, 344, 345, 346, 347, 348, 349, 350}, common agents/total agents: 9/12\n",
      "frames: [11937, 11943, 11949], common agents: {352, 353, 342, 343, 344, 345, 346, 347, 348, 349, 350, 351}, common agents/total agents: 12/12\n",
      "frames: [11943, 11949, 11955], common agents: {352, 353, 342, 343, 344, 345, 346, 347, 348, 349, 350, 351}, common agents/total agents: 12/12\n",
      "frames: [11949, 11955, 11961], common agents: {352, 353, 342, 343, 344, 345, 346, 347, 348, 349, 350, 351}, common agents/total agents: 12/12\n",
      "frames: [11955, 11961, 11967], common agents: {352, 353, 342, 343, 344, 345, 346, 347, 348, 349, 350, 351}, common agents/total agents: 12/14\n",
      "frames: [11961, 11967, 11973], common agents: {352, 353, 342, 343, 344, 345, 346, 347, 348, 349, 350, 351}, common agents/total agents: 12/14\n",
      "frames: [11967, 11973, 11979], common agents: {352, 353, 354, 355, 342, 343, 344, 345, 346, 347, 348, 349, 350, 351}, common agents/total agents: 14/14\n",
      "frames: [11973, 11979, 11985], common agents: {352, 353, 354, 355, 342, 343, 344, 345, 346, 347, 348, 349, 350, 351}, common agents/total agents: 14/14\n",
      "frames: [11979, 11985, 11991], common agents: {352, 353, 354, 355, 342, 344, 345, 346, 347, 348, 349, 350, 351}, common agents/total agents: 13/14\n",
      "frames: [11985, 11991, 11997], common agents: {352, 353, 354, 355, 342, 345, 346, 347, 348, 349, 350, 351}, common agents/total agents: 12/14\n",
      "frames: [11991, 11997, 12003], common agents: {352, 353, 354, 355, 342, 345, 346, 347, 348, 349, 350, 351}, common agents/total agents: 12/13\n",
      "frames: [11997, 12003, 12009], common agents: {352, 353, 354, 355, 342, 345, 346, 347, 348, 349, 350, 351}, common agents/total agents: 12/12\n",
      "frames: [12003, 12009, 12015], common agents: {352, 353, 354, 355, 342, 345, 346, 347, 348, 349, 350, 351}, common agents/total agents: 12/12\n",
      "frames: [12009, 12015, 12021], common agents: {352, 353, 354, 355, 342, 345, 346, 347, 348, 349, 350, 351}, common agents/total agents: 12/16\n",
      "frames: [12015, 12021, 12027], common agents: {352, 353, 354, 355, 342, 345, 346, 347, 348, 349, 350, 351}, common agents/total agents: 12/16\n",
      "frames: [12021, 12027, 12033], common agents: {352, 353, 354, 355, 356, 357, 358, 359, 342, 345, 348, 349, 350, 351}, common agents/total agents: 14/16\n",
      "frames: [12027, 12033, 12039], common agents: {352, 353, 354, 355, 356, 357, 358, 359, 342, 345, 348, 349, 350, 351}, common agents/total agents: 14/16\n",
      "frames: [12033, 12039, 12045], common agents: {352, 353, 354, 355, 356, 357, 358, 359, 348, 349, 350, 351}, common agents/total agents: 12/14\n",
      "frames: [12039, 12045, 12051], common agents: {352, 353, 354, 355, 356, 357, 358, 359, 348, 349, 350, 351}, common agents/total agents: 12/14\n",
      "frames: [12045, 12051, 12057], common agents: {352, 353, 354, 355, 356, 357, 358, 359, 348, 349, 350, 351}, common agents/total agents: 12/12\n",
      "frames: [12051, 12057, 12063], common agents: {352, 353, 354, 355, 356, 357, 358, 359, 348, 350, 351}, common agents/total agents: 11/12\n",
      "frames: [12057, 12063, 12069], common agents: {352, 353, 354, 355, 356, 357, 358, 359, 348, 350, 351}, common agents/total agents: 11/12\n",
      "frames: [12063, 12069, 12075], common agents: {352, 353, 354, 355, 356, 357, 358, 359, 348, 350, 351}, common agents/total agents: 11/11\n",
      "frames: [12069, 12075, 12081], common agents: {352, 353, 354, 355, 356, 357, 358, 359, 350, 351}, common agents/total agents: 10/11\n",
      "frames: [12075, 12081, 12087], common agents: {352, 353, 354, 355, 356, 357, 358, 359, 350, 351}, common agents/total agents: 10/11\n",
      "frames: [12081, 12087, 12093], common agents: {352, 353, 354, 355, 356, 357, 358, 359, 350, 351}, common agents/total agents: 10/10\n",
      "frames: [12087, 12093, 12099], common agents: {352, 353, 354, 355, 356, 357, 358, 359, 350, 351}, common agents/total agents: 10/10\n",
      "frames: [12093, 12099, 12105], common agents: {352, 353, 354, 355, 356, 357, 358, 359, 350}, common agents/total agents: 9/10\n",
      "frames: [12099, 12105, 12111], common agents: {352, 353, 354, 355, 356, 357, 358, 359, 350}, common agents/total agents: 9/10\n",
      "frames: [12105, 12111, 12117], common agents: {353, 354, 355, 356, 357, 358, 359, 350}, common agents/total agents: 8/9\n",
      "frames: [12111, 12117, 12123], common agents: {353, 354, 355, 356, 357, 358, 359, 350}, common agents/total agents: 8/9\n",
      "frames: [12117, 12123, 12129], common agents: {353, 355, 356, 357, 358, 359, 350}, common agents/total agents: 7/8\n",
      "frames: [12243, 12249, 12255], common agents: {357, 358, 360, 361, 362, 363, 364, 365, 366}, common agents/total agents: 9/9\n",
      "frames: [12249, 12255, 12261], common agents: {357, 358, 360, 361, 362, 363, 364, 365, 366}, common agents/total agents: 9/9\n",
      "frames: [12255, 12261, 12267], common agents: {357, 358, 360, 361, 362, 363, 364, 365, 366}, common agents/total agents: 9/10\n",
      "frames: [12261, 12267, 12273], common agents: {357, 358, 360, 361, 362, 363, 364, 365, 366}, common agents/total agents: 9/10\n",
      "frames: [12267, 12273, 12279], common agents: {357, 358, 360, 361, 362, 363, 364, 365, 366, 367}, common agents/total agents: 10/10\n",
      "frames: [12273, 12279, 12285], common agents: {357, 358, 360, 361, 362, 363, 364, 365, 366, 367}, common agents/total agents: 10/10\n",
      "frames: [12279, 12285, 12291], common agents: {357, 358, 360, 361, 362, 363, 364, 365, 366, 367}, common agents/total agents: 10/10\n",
      "frames: [12285, 12291, 12297], common agents: {357, 358, 360, 361, 362, 363, 364, 365, 366, 367}, common agents/total agents: 10/10\n",
      "frames: [12291, 12297, 12303], common agents: {357, 358, 360, 361, 362, 363, 364, 365, 366, 367}, common agents/total agents: 10/10\n",
      "frames: [12297, 12303, 12309], common agents: {357, 358, 360, 361, 362, 363, 364, 365, 366, 367}, common agents/total agents: 10/10\n",
      "frames: [12303, 12309, 12315], common agents: {357, 358, 360, 361, 362, 363, 364, 365, 366, 367}, common agents/total agents: 10/10\n",
      "frames: [12309, 12315, 12321], common agents: {357, 358, 360, 361, 362, 363, 364, 365, 366, 367}, common agents/total agents: 10/10\n",
      "frames: [12315, 12321, 12327], common agents: {357, 358, 360, 361, 362, 363, 364, 365, 366, 367}, common agents/total agents: 10/10\n",
      "frames: [12321, 12327, 12333], common agents: {357, 358, 360, 361, 362, 363, 364, 365, 366, 367}, common agents/total agents: 10/10\n",
      "frames: [12327, 12333, 12339], common agents: {357, 358, 360, 361, 362, 363, 364, 365, 366, 367}, common agents/total agents: 10/10\n",
      "frames: [12333, 12339, 12345], common agents: {357, 358, 362, 363, 364, 365, 366, 367}, common agents/total agents: 8/10\n",
      "frames: [12339, 12345, 12351], common agents: {357, 358, 362, 363, 364, 365, 366, 367}, common agents/total agents: 8/10\n",
      "frames: [12345, 12351, 12357], common agents: {357, 358, 363, 364, 365, 366, 367}, common agents/total agents: 7/8\n"
     ]
    },
    {
     "data": {
      "text/plain": "{'frames': [4949, 4955, 4961],\n 'common_agents': {92, 93, 94, 96, 97, 98, 99},\n 'total_agents': {92, 93, 94, 95, 96, 97, 98, 99}}"
     },
     "execution_count": 23,
     "metadata": {},
     "output_type": "execute_result"
    }
   ],
   "source": [
    "combs = []\n",
    "for frames in filtered_frame_combinations:\n",
    "    comb_dict = {}\n",
    "    agent_list = [set(agents_by_frame[agents_by_frame['frame_id'] == frame]['agents'].iloc[0]) for frame in frames]\n",
    "    comb_dict['frames'] = frames\n",
    "    comb_dict['common_agents'] = set.intersection(*agent_list)\n",
    "    comb_dict['total_agents'] = set.union(*agent_list)\n",
    "    print('frames: {}, common agents: {}, common agents/total agents: {}/{}'.format(comb_dict['frames'], comb_dict['common_agents'], len(comb_dict['common_agents']), len(comb_dict['total_agents'])))\n",
    "    combs.append(comb_dict)\n",
    "combs[100]"
   ],
   "metadata": {
    "collapsed": false
   }
  },
  {
   "cell_type": "markdown",
   "source": [
    "time window 1 frame"
   ],
   "metadata": {
    "collapsed": false
   }
  },
  {
   "cell_type": "code",
   "execution_count": null,
   "outputs": [],
   "source": [
    "# TODO check number of data when time window is 1 frame"
   ],
   "metadata": {
    "collapsed": false
   }
  },
  {
   "cell_type": "markdown",
   "source": [
    "time window X frames"
   ],
   "metadata": {
    "collapsed": false
   }
  },
  {
   "cell_type": "code",
   "execution_count": null,
   "outputs": [],
   "source": [
    "# TODO check number of data when time window is X frame"
   ],
   "metadata": {
    "collapsed": false
   }
  }
 ],
 "metadata": {
  "kernelspec": {
   "display_name": "Python 3",
   "language": "python",
   "name": "python3"
  },
  "language_info": {
   "codemirror_mode": {
    "name": "ipython",
    "version": 2
   },
   "file_extension": ".py",
   "mimetype": "text/x-python",
   "name": "python",
   "nbconvert_exporter": "python",
   "pygments_lexer": "ipython2",
   "version": "2.7.6"
  }
 },
 "nbformat": 4,
 "nbformat_minor": 0
}
