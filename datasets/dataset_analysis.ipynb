{
 "cells": [
  {
   "cell_type": "markdown",
   "source": [
    "# Imports"
   ],
   "metadata": {
    "collapsed": false
   }
  },
  {
   "cell_type": "code",
   "execution_count": 1,
   "metadata": {
    "collapsed": true,
    "ExecuteTime": {
     "end_time": "2023-06-27T08:34:21.137334300Z",
     "start_time": "2023-06-27T08:34:18.906083900Z"
    }
   },
   "outputs": [],
   "source": [
    "from datasets.preparer import *"
   ]
  },
  {
   "cell_type": "code",
   "execution_count": 2,
   "outputs": [],
   "source": [
    "class Args:\n",
    "    def __init__(self, dataset, dataset_path, epochs, features, agents, frames, batch_size, reg, dropout, learning_rate,\n",
    "                 gmitre_calc, min_samples, max_samples):\n",
    "        self.dataset = dataset\n",
    "        self.dataset_path = dataset_path\n",
    "        self.epochs = epochs\n",
    "        self.features = features\n",
    "        self.agents = agents\n",
    "        self.frames = frames\n",
    "        self.batch_size = batch_size\n",
    "        self.reg = reg\n",
    "        self.dropout = dropout\n",
    "        self.learning_rate = learning_rate\n",
    "        self.gmitre_calc = gmitre_calc\n",
    "        self.min_samples = min_samples\n",
    "        self.max_samples = max_samples\n"
   ],
   "metadata": {
    "collapsed": false,
    "ExecuteTime": {
     "end_time": "2023-06-27T08:34:21.148336400Z",
     "start_time": "2023-06-27T08:34:21.138330600Z"
    }
   }
  },
  {
   "cell_type": "markdown",
   "source": [
    "# Datasets stats"
   ],
   "metadata": {
    "collapsed": false
   }
  },
  {
   "cell_type": "code",
   "execution_count": 3,
   "outputs": [],
   "source": [
    "datasets_dict = {\n",
    "    'eth': dataset_data('./ETH/seq_eth'),\n",
    "    'hotel': dataset_data('./ETH/seq_hotel'),\n",
    "    'zara01': dataset_data('./UCY/zara01'),\n",
    "    'zara02': dataset_data('./UCY/zara02'),\n",
    "    'students03': dataset_data('./UCY/students03')\n",
    "}"
   ],
   "metadata": {
    "collapsed": false,
    "ExecuteTime": {
     "end_time": "2023-06-27T08:34:21.886675700Z",
     "start_time": "2023-06-27T08:34:21.150335800Z"
    }
   }
  },
  {
   "cell_type": "code",
   "execution_count": 4,
   "outputs": [
    {
     "data": {
      "text/plain": "<Figure size 629.75x500 with 1 Axes>",
      "image/png": "[encoded data removed]"
     },
     "metadata": {},
     "output_type": "display_data"
    }
   ],
   "source": [
    "groups_dict = {\n",
    "    'eth': read_groups('./ETH/seq_eth'),\n",
    "    'hotel': read_groups('./ETH/seq_hotel'),\n",
    "    'zara01': read_groups('./UCY/zara01'),\n",
    "    'zara02': read_groups('./UCY/zara02'),\n",
    "    'students03': read_groups('./UCY/students03')\n",
    "}\n",
    "groups_size_hist(groups_dict, './group_size_plot.png')"
   ],
   "metadata": {
    "collapsed": false,
    "ExecuteTime": {
     "end_time": "2023-06-27T08:34:22.790993600Z",
     "start_time": "2023-06-27T08:34:21.891673100Z"
    }
   }
  },
  {
   "cell_type": "code",
   "execution_count": 5,
   "outputs": [
    {
     "data": {
      "text/plain": "            groups  agents  frames  single agent groups  difference  duration\neth             58     360    1448                  201           6     773.4\nhotel           41     390    1168                  305          10     722.4\nzara01          45     148     866                   46          10     360.4\nzara02          58     204    1052                   82          10     420.4\nstudents03     101     428     540                  194          10     215.6",
      "text/html": "<div>\n<style scoped>\n    .dataframe tbody tr th:only-of-type {\n        vertical-align: middle;\n    }\n\n    .dataframe tbody tr th {\n        vertical-align: top;\n    }\n\n    .dataframe thead th {\n        text-align: right;\n    }\n</style>\n<table border=\"1\" class=\"dataframe\">\n  <thead>\n    <tr style=\"text-align: right;\">\n      <th></th>\n      <th>groups</th>\n      <th>agents</th>\n      <th>frames</th>\n      <th>single agent groups</th>\n      <th>difference</th>\n      <th>duration</th>\n    </tr>\n  </thead>\n  <tbody>\n    <tr>\n      <th>eth</th>\n      <td>58</td>\n      <td>360</td>\n      <td>1448</td>\n      <td>201</td>\n      <td>6</td>\n      <td>773.4</td>\n    </tr>\n    <tr>\n      <th>hotel</th>\n      <td>41</td>\n      <td>390</td>\n      <td>1168</td>\n      <td>305</td>\n      <td>10</td>\n      <td>722.4</td>\n    </tr>\n    <tr>\n      <th>zara01</th>\n      <td>45</td>\n      <td>148</td>\n      <td>866</td>\n      <td>46</td>\n      <td>10</td>\n      <td>360.4</td>\n    </tr>\n    <tr>\n      <th>zara02</th>\n      <td>58</td>\n      <td>204</td>\n      <td>1052</td>\n      <td>82</td>\n      <td>10</td>\n      <td>420.4</td>\n    </tr>\n    <tr>\n      <th>students03</th>\n      <td>101</td>\n      <td>428</td>\n      <td>540</td>\n      <td>194</td>\n      <td>10</td>\n      <td>215.6</td>\n    </tr>\n  </tbody>\n</table>\n</div>"
     },
     "execution_count": 5,
     "metadata": {},
     "output_type": "execute_result"
    }
   ],
   "source": [
    "stats_df = pd.DataFrame.from_dict(datasets_dict, orient='index')\n",
    "stats_df['groups'] = stats_df['groups'].str.len()\n",
    "stats_df.drop(columns=['df'])"
   ],
   "metadata": {
    "collapsed": false,
    "ExecuteTime": {
     "end_time": "2023-06-27T08:34:22.973870800Z",
     "start_time": "2023-06-27T08:34:22.795895500Z"
    }
   }
  },
  {
   "cell_type": "code",
   "execution_count": 24,
   "outputs": [],
   "source": [
    "args = Args(\n",
    "    dataset='eth',\n",
    "    dataset_path='./datasets/ETH/seq_eth',\n",
    "    epochs=50,\n",
    "    features=4,\n",
    "    agents=5,\n",
    "    frames=1,\n",
    "    batch_size=1024,\n",
    "    reg=0.0000001,\n",
    "    dropout=0.35,\n",
    "    learning_rate=0.0001,\n",
    "    gmitre_calc=True,\n",
    "    min_samples=10,\n",
    "    max_samples=100\n",
    ")"
   ],
   "metadata": {
    "collapsed": false,
    "ExecuteTime": {
     "end_time": "2023-06-27T09:13:35.624052300Z",
     "start_time": "2023-06-27T09:13:35.602347600Z"
    }
   }
  },
  {
   "cell_type": "code",
   "execution_count": 48,
   "outputs": [],
   "source": [
    "dataset_scenes = {}\n",
    "size = {}\n",
    "steps = {\n",
    "    'eth': 2,\n",
    "    'hotel': 2,\n",
    "    'zara01': 2,\n",
    "    'zara02': 3,\n",
    "    'students03': 6\n",
    "}\n",
    "min_samples = {\n",
    "    'eth': 5,\n",
    "    'hotel': 10,\n",
    "    'zara01': 10,\n",
    "    'zara02': 5,\n",
    "    'students03': 2\n",
    "}\n",
    "max_samples = {\n",
    "    'eth': 100,\n",
    "    'hotel': 100,\n",
    "    'zara01': 100,\n",
    "    'zara02': 100,\n",
    "    'students03': 10\n",
    "}\n",
    "for dataset in datasets_dict.keys():\n",
    "    df = datasets_dict[dataset]['df']\n",
    "    groups = datasets_dict[dataset]['groups']\n",
    "    group_pairs = get_group_pairs(groups)\n",
    "    difference = datasets_dict[dataset]['difference']\n",
    "\n",
    "    # remove agents with low number of frames or agents\n",
    "    # df = remove_agents_and_frames_with_insufficient_data(dataframe=df, frames_threshold=args.frames,\n",
    "    #                                                      agents_threshold=args.agents)\n",
    "\n",
    "    # get frame combinations data\n",
    "    scenes = get_scene_data(dataframe=df, agents_minimum=args.agents,\n",
    "                            consecutive_frames=args.frames, difference_between_frames=difference,\n",
    "                            groups=groups, step=steps[dataset])\n",
    "\n",
    "    dataset_scenes[dataset] = scenes\n",
    "    size[dataset] = dataset_size_calculator(group_pairs=group_pairs, scene_data=scenes, agents_minimum=args.agents,\n",
    "                                            min_pair_samples=min_samples[dataset],\n",
    "                                            max_pair_samples=max_samples[dataset])"
   ],
   "metadata": {
    "collapsed": false,
    "ExecuteTime": {
     "end_time": "2023-06-27T09:15:45.409901100Z",
     "start_time": "2023-06-27T09:15:44.354439600Z"
    }
   }
  },
  {
   "cell_type": "code",
   "execution_count": 49,
   "outputs": [
    {
     "name": "stdout",
     "output_type": "stream",
     "text": [
      "dataset: eth, combinations: 654\n",
      "dataset: hotel, combinations: 542\n",
      "dataset: zara01, combinations: 429\n",
      "dataset: zara02, combinations: 343\n",
      "dataset: students03, combinations: 90\n"
     ]
    }
   ],
   "source": [
    "for dataset, scenes in dataset_scenes.items():\n",
    "    print('dataset: {}, combinations: {}'.format(dataset, len(scenes)))"
   ],
   "metadata": {
    "collapsed": false,
    "ExecuteTime": {
     "end_time": "2023-06-27T09:15:45.425941600Z",
     "start_time": "2023-06-27T09:15:45.412903800Z"
    }
   }
  },
  {
   "cell_type": "code",
   "execution_count": 50,
   "outputs": [
    {
     "name": "stdout",
     "output_type": "stream",
     "text": [
      "dataset: eth, samples: 130315\n",
      "dataset: hotel, samples: 113143\n",
      "dataset: zara01, samples: 117298\n",
      "dataset: zara02, samples: 139192\n",
      "dataset: students03, samples: 163912\n"
     ]
    }
   ],
   "source": [
    "for dataset, samples in size.items():\n",
    "    print('dataset: {}, samples: {}'.format(dataset, samples))"
   ],
   "metadata": {
    "collapsed": false,
    "ExecuteTime": {
     "end_time": "2023-06-27T09:15:45.954871300Z",
     "start_time": "2023-06-27T09:15:45.931592500Z"
    }
   }
  },
  {
   "cell_type": "code",
   "execution_count": 9,
   "outputs": [],
   "source": [],
   "metadata": {
    "collapsed": false,
    "ExecuteTime": {
     "end_time": "2023-06-27T08:34:35.364962200Z",
     "start_time": "2023-06-27T08:34:35.290945900Z"
    }
   }
  }
 ],
 "metadata": {
  "kernelspec": {
   "display_name": "Python 3",
   "language": "python",
   "name": "python3"
  },
  "language_info": {
   "codemirror_mode": {
    "name": "ipython",
    "version": 2
   },
   "file_extension": ".py",
   "mimetype": "text/x-python",
   "name": "python",
   "nbconvert_exporter": "python",
   "pygments_lexer": "ipython2",
   "version": "2.7.6"
  }
 },
 "nbformat": 4,
 "nbformat_minor": 0
}
