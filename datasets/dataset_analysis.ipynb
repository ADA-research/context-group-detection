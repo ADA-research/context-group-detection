{
 "cells": [
  {
   "cell_type": "markdown",
   "source": [
    "# Imports"
   ],
   "metadata": {
    "collapsed": false
   }
  },
  {
   "cell_type": "code",
   "execution_count": 1,
   "metadata": {
    "collapsed": true
   },
   "outputs": [],
   "source": [
    "import pandas as pd\n",
    "\n",
    "from preparer import dataset_stats, groups_size_hist"
   ]
  },
  {
   "cell_type": "markdown",
   "source": [
    "# Datasets stats"
   ],
   "metadata": {
    "collapsed": false
   }
  },
  {
   "cell_type": "code",
   "execution_count": 2,
   "outputs": [],
   "source": [
    "datasets_dict = {\n",
    "    'eth': dataset_stats('./ETH/seq_eth'),\n",
    "    'hotel': dataset_stats('./ETH/seq_hotel'),\n",
    "    'zara01': dataset_stats('./UCY/zara01'),\n",
    "    'zara02': dataset_stats('./UCY/zara02'),\n",
    "    'students03': dataset_stats('./UCY/students03')\n",
    "}"
   ],
   "metadata": {
    "collapsed": false
   }
  },
  {
   "cell_type": "code",
   "execution_count": 3,
   "outputs": [
    {
     "data": {
      "text/plain": "<Figure size 629.75x500 with 1 Axes>",
      "image/png": "[encoded data removed]"
     },
     "metadata": {},
     "output_type": "display_data"
    }
   ],
   "source": [
    "groups_dict = {\n",
    "    'eth': datasets_dict['eth']['groups'],\n",
    "    'hotel': datasets_dict['hotel']['groups'],\n",
    "    'zara01': datasets_dict['zara01']['groups'],\n",
    "    'zara02': datasets_dict['zara02']['groups'],\n",
    "    'students03': datasets_dict['students03']['groups']\n",
    "}\n",
    "groups_size_hist(groups_dict, './group_size_plot.png')"
   ],
   "metadata": {
    "collapsed": false
   }
  },
  {
   "cell_type": "code",
   "execution_count": 4,
   "outputs": [
    {
     "data": {
      "text/plain": "            groups  agents  frames  single agent groups  duration\neth             58     360    1448                  201     773.4\nhotel           41     390    1168                  305     722.4\nzara01          45     148     866                   46     360.4\nzara02          58     204    1052                   82     420.4\nstudents03     101     428     540                  194     215.6",
      "text/html": "<div>\n<style scoped>\n    .dataframe tbody tr th:only-of-type {\n        vertical-align: middle;\n    }\n\n    .dataframe tbody tr th {\n        vertical-align: top;\n    }\n\n    .dataframe thead th {\n        text-align: right;\n    }\n</style>\n<table border=\"1\" class=\"dataframe\">\n  <thead>\n    <tr style=\"text-align: right;\">\n      <th></th>\n      <th>groups</th>\n      <th>agents</th>\n      <th>frames</th>\n      <th>single agent groups</th>\n      <th>duration</th>\n    </tr>\n  </thead>\n  <tbody>\n    <tr>\n      <th>eth</th>\n      <td>58</td>\n      <td>360</td>\n      <td>1448</td>\n      <td>201</td>\n      <td>773.4</td>\n    </tr>\n    <tr>\n      <th>hotel</th>\n      <td>41</td>\n      <td>390</td>\n      <td>1168</td>\n      <td>305</td>\n      <td>722.4</td>\n    </tr>\n    <tr>\n      <th>zara01</th>\n      <td>45</td>\n      <td>148</td>\n      <td>866</td>\n      <td>46</td>\n      <td>360.4</td>\n    </tr>\n    <tr>\n      <th>zara02</th>\n      <td>58</td>\n      <td>204</td>\n      <td>1052</td>\n      <td>82</td>\n      <td>420.4</td>\n    </tr>\n    <tr>\n      <th>students03</th>\n      <td>101</td>\n      <td>428</td>\n      <td>540</td>\n      <td>194</td>\n      <td>215.6</td>\n    </tr>\n  </tbody>\n</table>\n</div>"
     },
     "execution_count": 4,
     "metadata": {},
     "output_type": "execute_result"
    }
   ],
   "source": [
    "stats_df = pd.DataFrame.from_dict(datasets_dict, orient='index')\n",
    "stats_df['groups'] = stats_df['groups'].str.len()\n",
    "stats_df.drop(columns=['df'])"
   ],
   "metadata": {
    "collapsed": false
   }
  },
  {
   "cell_type": "markdown",
   "source": [
    "# Single dataset preprocessing"
   ],
   "metadata": {
    "collapsed": false
   }
  },
  {
   "cell_type": "code",
   "execution_count": 5,
   "outputs": [],
   "source": [
    "dataset = 'eth'\n",
    "df = datasets_dict[dataset]['df']\n",
    "groups = datasets_dict[dataset]['groups']"
   ],
   "metadata": {
    "collapsed": false
   }
  },
  {
   "cell_type": "code",
   "execution_count": 6,
   "outputs": [
    {
     "data": {
      "text/plain": "   frame_id  agent_id      pos_x     pos_y       v_x       v_y  timestamp\n0       780         1   8.456844  3.588066  1.671714  0.176292       52.0\n1       786         1   9.125530  3.658583  1.662877  0.326723       52.4\n2       792         1   9.787146  3.849445  1.683334  0.371084       52.8\n3       798         1  10.472197  3.955450  1.598568  0.264795       53.2\n4       804         1  11.066000  4.061280  1.574526  0.456390       53.6",
      "text/html": "<div>\n<style scoped>\n    .dataframe tbody tr th:only-of-type {\n        vertical-align: middle;\n    }\n\n    .dataframe tbody tr th {\n        vertical-align: top;\n    }\n\n    .dataframe thead th {\n        text-align: right;\n    }\n</style>\n<table border=\"1\" class=\"dataframe\">\n  <thead>\n    <tr style=\"text-align: right;\">\n      <th></th>\n      <th>frame_id</th>\n      <th>agent_id</th>\n      <th>pos_x</th>\n      <th>pos_y</th>\n      <th>v_x</th>\n      <th>v_y</th>\n      <th>timestamp</th>\n    </tr>\n  </thead>\n  <tbody>\n    <tr>\n      <th>0</th>\n      <td>780</td>\n      <td>1</td>\n      <td>8.456844</td>\n      <td>3.588066</td>\n      <td>1.671714</td>\n      <td>0.176292</td>\n      <td>52.0</td>\n    </tr>\n    <tr>\n      <th>1</th>\n      <td>786</td>\n      <td>1</td>\n      <td>9.125530</td>\n      <td>3.658583</td>\n      <td>1.662877</td>\n      <td>0.326723</td>\n      <td>52.4</td>\n    </tr>\n    <tr>\n      <th>2</th>\n      <td>792</td>\n      <td>1</td>\n      <td>9.787146</td>\n      <td>3.849445</td>\n      <td>1.683334</td>\n      <td>0.371084</td>\n      <td>52.8</td>\n    </tr>\n    <tr>\n      <th>3</th>\n      <td>798</td>\n      <td>1</td>\n      <td>10.472197</td>\n      <td>3.955450</td>\n      <td>1.598568</td>\n      <td>0.264795</td>\n      <td>53.2</td>\n    </tr>\n    <tr>\n      <th>4</th>\n      <td>804</td>\n      <td>1</td>\n      <td>11.066000</td>\n      <td>4.061280</td>\n      <td>1.574526</td>\n      <td>0.456390</td>\n      <td>53.6</td>\n    </tr>\n  </tbody>\n</table>\n</div>"
     },
     "execution_count": 6,
     "metadata": {},
     "output_type": "execute_result"
    }
   ],
   "source": [
    "df.head()"
   ],
   "metadata": {
    "collapsed": false
   }
  },
  {
   "cell_type": "markdown",
   "source": [
    "number of frames for each agent"
   ],
   "metadata": {
    "collapsed": false
   }
  },
  {
   "cell_type": "code",
   "execution_count": 7,
   "outputs": [
    {
     "data": {
      "text/plain": "171    190\n216    101\n238     95\n52      64\n51      64\n      ... \n26       3\n288      3\n282      2\n115      2\n292      2\nName: agent_id, Length: 360, dtype: int64"
     },
     "execution_count": 7,
     "metadata": {},
     "output_type": "execute_result"
    }
   ],
   "source": [
    "agent_occurrences = df['agent_id'].value_counts()\n",
    "agent_occurrences"
   ],
   "metadata": {
    "collapsed": false
   }
  },
  {
   "cell_type": "markdown",
   "source": [
    "number of people for each frame"
   ],
   "metadata": {
    "collapsed": false
   }
  },
  {
   "cell_type": "code",
   "execution_count": 8,
   "outputs": [
    {
     "data": {
      "text/plain": "10383    27\n10437    26\n10377    26\n10365    26\n10371    26\n         ..\n4625      1\n8703      1\n8679      1\n4577      1\n1950      1\nName: frame_id, Length: 1448, dtype: int64"
     },
     "execution_count": 8,
     "metadata": {},
     "output_type": "execute_result"
    }
   ],
   "source": [
    "frame_occurrences = df['frame_id'].value_counts()\n",
    "frame_occurrences"
   ],
   "metadata": {
    "collapsed": false
   }
  },
  {
   "cell_type": "code",
   "execution_count": 9,
   "outputs": [
    {
     "data": {
      "text/plain": "     frame_id  agent_id     pos_x     pos_y       v_x       v_y  timestamp\n104       948         5  8.612637  4.203888  1.617353  0.061244       63.2\n105       948         4  8.899052  4.973553  1.504100  0.148273       63.2\n106       948         3  4.459227  6.987026 -0.578897  0.035336       63.2\n107       948         2  3.576947  7.818493 -0.817952  0.165903       63.2\n108       948         6  3.416835  6.179619 -1.012847 -0.003662       63.2",
      "text/html": "<div>\n<style scoped>\n    .dataframe tbody tr th:only-of-type {\n        vertical-align: middle;\n    }\n\n    .dataframe tbody tr th {\n        vertical-align: top;\n    }\n\n    .dataframe thead th {\n        text-align: right;\n    }\n</style>\n<table border=\"1\" class=\"dataframe\">\n  <thead>\n    <tr style=\"text-align: right;\">\n      <th></th>\n      <th>frame_id</th>\n      <th>agent_id</th>\n      <th>pos_x</th>\n      <th>pos_y</th>\n      <th>v_x</th>\n      <th>v_y</th>\n      <th>timestamp</th>\n    </tr>\n  </thead>\n  <tbody>\n    <tr>\n      <th>104</th>\n      <td>948</td>\n      <td>5</td>\n      <td>8.612637</td>\n      <td>4.203888</td>\n      <td>1.617353</td>\n      <td>0.061244</td>\n      <td>63.2</td>\n    </tr>\n    <tr>\n      <th>105</th>\n      <td>948</td>\n      <td>4</td>\n      <td>8.899052</td>\n      <td>4.973553</td>\n      <td>1.504100</td>\n      <td>0.148273</td>\n      <td>63.2</td>\n    </tr>\n    <tr>\n      <th>106</th>\n      <td>948</td>\n      <td>3</td>\n      <td>4.459227</td>\n      <td>6.987026</td>\n      <td>-0.578897</td>\n      <td>0.035336</td>\n      <td>63.2</td>\n    </tr>\n    <tr>\n      <th>107</th>\n      <td>948</td>\n      <td>2</td>\n      <td>3.576947</td>\n      <td>7.818493</td>\n      <td>-0.817952</td>\n      <td>0.165903</td>\n      <td>63.2</td>\n    </tr>\n    <tr>\n      <th>108</th>\n      <td>948</td>\n      <td>6</td>\n      <td>3.416835</td>\n      <td>6.179619</td>\n      <td>-1.012847</td>\n      <td>-0.003662</td>\n      <td>63.2</td>\n    </tr>\n  </tbody>\n</table>\n</div>"
     },
     "execution_count": 9,
     "metadata": {},
     "output_type": "execute_result"
    }
   ],
   "source": [
    "from preparer import remove_agents_and_frames_with_insufficient_data\n",
    "df = remove_agents_and_frames_with_insufficient_data(dataframe=df, frames_threshold=5, agents_threshold=7)\n",
    "df.head()"
   ],
   "metadata": {
    "collapsed": false
   }
  },
  {
   "cell_type": "code",
   "execution_count": 10,
   "outputs": [
    {
     "data": {
      "text/plain": "171    80\n238    69\n216    43\n358    41\n357    41\n       ..\n98      5\n96      5\n224     5\n58      5\n222     5\nName: agent_id, Length: 289, dtype: int64"
     },
     "execution_count": 10,
     "metadata": {},
     "output_type": "execute_result"
    }
   ],
   "source": [
    "agent_occurrences = df['agent_id'].value_counts()\n",
    "agent_occurrences"
   ],
   "metadata": {
    "collapsed": false
   }
  },
  {
   "cell_type": "code",
   "execution_count": 11,
   "outputs": [
    {
     "data": {
      "text/plain": "10383    27\n10371    26\n10365    26\n10377    26\n10437    26\n         ..\n4727      7\n8601      7\n8589      7\n8577      7\n3120      7\nName: frame_id, Length: 536, dtype: int64"
     },
     "execution_count": 11,
     "metadata": {},
     "output_type": "execute_result"
    }
   ],
   "source": [
    "frame_occurrences = df['frame_id'].value_counts()\n",
    "frame_occurrences"
   ],
   "metadata": {
    "collapsed": false
   }
  },
  {
   "cell_type": "markdown",
   "source": [
    "# Trajectories\n",
    "\n",
    "Use of eth proposed loader"
   ],
   "metadata": {
    "collapsed": false
   }
  },
  {
   "cell_type": "code",
   "execution_count": 12,
   "outputs": [
    {
     "name": "stdout",
     "output_type": "stream",
     "text": [
      "   frame_id  agent_id      pos_x     pos_y     vel_x     vel_y  scene_id  \\\n",
      "0       780         1   8.456844  3.588066  1.671714  0.176292         0   \n",
      "1       786         1   9.125530  3.658583  1.662877  0.326723         0   \n",
      "2       792         1   9.787146  3.849445  1.683334  0.371084         0   \n",
      "3       798         1  10.472197  3.955450  1.598568  0.264795         0   \n",
      "4       804         1  11.066000  4.061280  1.574526  0.456390         0   \n",
      "6       810         1  11.731818  4.320563  1.644127  0.544391         0   \n",
      "8       816         1  12.381302  4.496793  1.623709  0.440576         0   \n",
      "\n",
      "        label  timestamp  \n",
      "0  pedestrian       52.0  \n",
      "1  pedestrian       52.4  \n",
      "2  pedestrian       52.8  \n",
      "3  pedestrian       53.2  \n",
      "4  pedestrian       53.6  \n",
      "6  pedestrian       54.0  \n",
      "8  pedestrian       54.4  \n",
      "   frame_id  agent_id      pos_x     pos_y     vel_x     vel_y  scene_id  \\\n",
      "0       780         1   8.456844  3.588066  1.671714  0.176292         0   \n",
      "1       786         1   9.125530  3.658583  1.662877  0.326723         0   \n",
      "2       792         1   9.787146  3.849445  1.683334  0.371084         0   \n",
      "3       798         1  10.472197  3.955450  1.598568  0.264795         0   \n",
      "4       804         1  11.066000  4.061280  1.574526  0.456390         0   \n",
      "6       810         1  11.731818  4.320563  1.644127  0.544391         0   \n",
      "8       816         1  12.381302  4.496793  1.623709  0.440576         0   \n",
      "\n",
      "        label  timestamp  \n",
      "0  pedestrian       52.0  \n",
      "1  pedestrian       52.4  \n",
      "2  pedestrian       52.8  \n",
      "3  pedestrian       53.2  \n",
      "4  pedestrian       53.6  \n",
      "6  pedestrian       54.0  \n",
      "8  pedestrian       54.4  \n",
      "(8908, 9)\n"
     ]
    }
   ],
   "source": [
    "from loader import load_eth\n",
    "eth_traj_dataset = load_eth('./ETH/seq_eth/obsmat.txt')\n",
    "eth_trajs = eth_traj_dataset.get_trajectories()\n",
    "print(eth_traj_dataset.data.iloc[eth_trajs.groups[0, 1]])  # get trajectory of scene_id 0 and pedestrian_id 1\n",
    "print(eth_traj_dataset.data[eth_traj_dataset.data['agent_id'] == 1])\n",
    "print(eth_traj_dataset.data.shape)"
   ],
   "metadata": {
    "collapsed": false
   }
  },
  {
   "cell_type": "markdown",
   "source": [
    "# Thoughts and TODOs"
   ],
   "metadata": {
    "collapsed": false
   }
  },
  {
   "cell_type": "markdown",
   "source": [
    "goal: data for all agents, both in or not in groups\n",
    "problems: agents in low number of frames"
   ],
   "metadata": {
    "collapsed": false
   }
  },
  {
   "cell_type": "markdown",
   "source": [
    "number of same agents in X consecutive frames"
   ],
   "metadata": {
    "collapsed": false
   }
  },
  {
   "cell_type": "code",
   "execution_count": 13,
   "outputs": [
    {
     "data": {
      "text/plain": "   frame_id                 agents\n0       948  [5, 4, 3, 2, 6, 7, 8]\n1       954  [5, 4, 3, 2, 6, 7, 8]\n2       960  [5, 4, 3, 2, 6, 7, 8]\n3       966  [5, 4, 3, 2, 6, 7, 8]\n4       972  [5, 4, 3, 2, 6, 7, 8]",
      "text/html": "<div>\n<style scoped>\n    .dataframe tbody tr th:only-of-type {\n        vertical-align: middle;\n    }\n\n    .dataframe tbody tr th {\n        vertical-align: top;\n    }\n\n    .dataframe thead th {\n        text-align: right;\n    }\n</style>\n<table border=\"1\" class=\"dataframe\">\n  <thead>\n    <tr style=\"text-align: right;\">\n      <th></th>\n      <th>frame_id</th>\n      <th>agents</th>\n    </tr>\n  </thead>\n  <tbody>\n    <tr>\n      <th>0</th>\n      <td>948</td>\n      <td>[5, 4, 3, 2, 6, 7, 8]</td>\n    </tr>\n    <tr>\n      <th>1</th>\n      <td>954</td>\n      <td>[5, 4, 3, 2, 6, 7, 8]</td>\n    </tr>\n    <tr>\n      <th>2</th>\n      <td>960</td>\n      <td>[5, 4, 3, 2, 6, 7, 8]</td>\n    </tr>\n    <tr>\n      <th>3</th>\n      <td>966</td>\n      <td>[5, 4, 3, 2, 6, 7, 8]</td>\n    </tr>\n    <tr>\n      <th>4</th>\n      <td>972</td>\n      <td>[5, 4, 3, 2, 6, 7, 8]</td>\n    </tr>\n  </tbody>\n</table>\n</div>"
     },
     "execution_count": 13,
     "metadata": {},
     "output_type": "execute_result"
    }
   ],
   "source": [
    "agent_sets = df.groupby('frame_id')['agent_id'].apply(list).reset_index(name='agents')\n",
    "agent_sets.head()"
   ],
   "metadata": {
    "collapsed": false
   }
  },
  {
   "cell_type": "code",
   "execution_count": 14,
   "outputs": [
    {
     "data": {
      "text/plain": "[[948, 954, 960],\n [954, 960, 966],\n [960, 966, 972],\n [966, 972, 978],\n [972, 978, 984],\n [978, 984, 1074],\n [984, 1074, 1080],\n [1074, 1080, 1086],\n [1080, 1086, 1092],\n [1086, 1092, 1098],\n [1092, 1098, 1104],\n [1098, 1104, 1110],\n [1104, 1110, 1116],\n [1110, 1116, 1122],\n [1116, 1122, 1128],\n [1122, 1128, 1134],\n [1128, 1134, 1140],\n [1134, 1140, 1146],\n [1140, 1146, 1152],\n [1146, 1152, 1158],\n [1152, 1158, 1164],\n [1158, 1164, 1170],\n [1164, 1170, 1176],\n [1170, 1176, 1182],\n [1176, 1182, 1188],\n [1182, 1188, 1194],\n [1188, 1194, 1200],\n [1194, 1200, 1206],\n [1200, 1206, 1212],\n [1206, 1212, 1218],\n [1212, 1218, 1224],\n [1218, 1224, 1230],\n [1224, 1230, 1236],\n [1230, 1236, 1242],\n [1236, 1242, 2214],\n [1242, 2214, 2220],\n [2214, 2220, 2226],\n [2220, 2226, 2232],\n [2226, 2232, 2238],\n [2232, 2238, 2244],\n [2238, 2244, 2250],\n [2244, 2250, 2256],\n [2250, 2256, 2262],\n [2256, 2262, 2268],\n [2262, 2268, 2274],\n [2268, 2274, 2280],\n [2274, 2280, 2286],\n [2280, 2286, 2862],\n [2286, 2862, 2868],\n [2862, 2868, 2874],\n [2868, 2874, 2880],\n [2874, 2880, 2886],\n [2880, 2886, 2892],\n [2886, 2892, 2898],\n [2892, 2898, 2904],\n [2898, 2904, 2910],\n [2904, 2910, 2916],\n [2910, 2916, 2922],\n [2916, 2922, 2928],\n [2922, 2928, 2934],\n [2928, 2934, 3102],\n [2934, 3102, 3108],\n [3102, 3108, 3114],\n [3108, 3114, 3120],\n [3114, 3120, 3126],\n [3120, 3126, 3132],\n [3126, 3132, 3138],\n [3132, 3138, 4223],\n [3138, 4223, 4229],\n [4223, 4229, 4235],\n [4229, 4235, 4241],\n [4235, 4241, 4247],\n [4241, 4247, 4253],\n [4247, 4253, 4259],\n [4253, 4259, 4265],\n [4259, 4265, 4271],\n [4265, 4271, 4277],\n [4271, 4277, 4283],\n [4277, 4283, 4289],\n [4283, 4289, 4295],\n [4289, 4295, 4301],\n [4295, 4301, 4307],\n [4301, 4307, 4313],\n [4307, 4313, 4319],\n [4313, 4319, 4325],\n [4319, 4325, 4331],\n [4325, 4331, 4337],\n [4331, 4337, 4343],\n [4337, 4343, 4349],\n [4343, 4349, 4355],\n [4349, 4355, 4727],\n [4355, 4727, 4733],\n [4727, 4733, 4739],\n [4733, 4739, 4745],\n [4739, 4745, 4751],\n [4745, 4751, 4757],\n [4751, 4757, 4763],\n [4757, 4763, 4769],\n [4763, 4769, 4775],\n [4769, 4775, 4781],\n [4775, 4781, 4805],\n [4781, 4805, 4811],\n [4805, 4811, 4817],\n [4811, 4817, 4823],\n [4817, 4823, 4829],\n [4823, 4829, 4835],\n [4829, 4835, 4841],\n [4835, 4841, 4847],\n [4841, 4847, 4853],\n [4847, 4853, 4859],\n [4853, 4859, 4865],\n [4859, 4865, 4871],\n [4865, 4871, 4937],\n [4871, 4937, 4943],\n [4937, 4943, 4949],\n [4943, 4949, 4955],\n [4949, 4955, 4961],\n [4955, 4961, 5111],\n [4961, 5111, 5117],\n [5111, 5117, 5123],\n [5117, 5123, 5129],\n [5123, 5129, 5135],\n [5129, 5135, 5141],\n [5135, 5141, 5147],\n [5141, 5147, 5153],\n [5147, 5153, 5159],\n [5153, 5159, 5165],\n [5159, 5165, 5171],\n [5165, 5171, 5177],\n [5171, 5177, 5183],\n [5177, 5183, 6839],\n [5183, 6839, 6845],\n [6839, 6845, 6851],\n [6845, 6851, 6857],\n [6851, 6857, 6863],\n [6857, 6863, 6869],\n [6863, 6869, 6875],\n [6869, 6875, 6881],\n [6875, 6881, 6887],\n [6881, 6887, 6893],\n [6887, 6893, 6899],\n [6893, 6899, 6905],\n [6899, 6905, 6911],\n [6905, 6911, 6917],\n [6911, 6917, 6923],\n [6917, 6923, 6929],\n [6923, 6929, 6935],\n [6929, 6935, 6941],\n [6935, 6941, 6947],\n [6941, 6947, 6953],\n [6947, 6953, 6959],\n [6953, 6959, 6965],\n [6959, 6965, 6971],\n [6965, 6971, 6977],\n [6971, 6977, 6983],\n [6977, 6983, 6989],\n [6983, 6989, 6995],\n [6989, 6995, 7001],\n [6995, 7001, 7007],\n [7001, 7007, 7013],\n [7007, 7013, 7019],\n [7013, 7019, 7025],\n [7019, 7025, 7031],\n [7025, 7031, 7037],\n [7031, 7037, 7397],\n [7037, 7397, 7403],\n [7397, 7403, 7409],\n [7403, 7409, 7415],\n [7409, 7415, 7421],\n [7415, 7421, 7427],\n [7421, 7427, 7457],\n [7427, 7457, 7463],\n [7457, 7463, 7469],\n [7463, 7469, 7475],\n [7469, 7475, 7481],\n [7475, 7481, 7487],\n [7481, 7487, 7493],\n [7487, 7493, 7499],\n [7493, 7499, 7505],\n [7499, 7505, 7859],\n [7505, 7859, 7865],\n [7859, 7865, 7871],\n [7865, 7871, 7877],\n [7871, 7877, 7883],\n [7877, 7883, 7889],\n [7883, 7889, 7895],\n [7889, 7895, 7901],\n [7895, 7901, 7907],\n [7901, 7907, 7913],\n [7907, 7913, 7919],\n [7913, 7919, 7925],\n [7919, 7925, 8373],\n [7925, 8373, 8379],\n [8373, 8379, 8385],\n [8379, 8385, 8391],\n [8385, 8391, 8397],\n [8391, 8397, 8403],\n [8397, 8403, 8409],\n [8403, 8409, 8415],\n [8409, 8415, 8421],\n [8415, 8421, 8427],\n [8421, 8427, 8433],\n [8427, 8433, 8439],\n [8433, 8439, 8445],\n [8439, 8445, 8451],\n [8445, 8451, 8457],\n [8451, 8457, 8463],\n [8457, 8463, 8469],\n [8463, 8469, 8475],\n [8469, 8475, 8481],\n [8475, 8481, 8487],\n [8481, 8487, 8493],\n [8487, 8493, 8499],\n [8493, 8499, 8505],\n [8499, 8505, 8511],\n [8505, 8511, 8517],\n [8511, 8517, 8523],\n [8517, 8523, 8529],\n [8523, 8529, 8535],\n [8529, 8535, 8541],\n [8535, 8541, 8547],\n [8541, 8547, 8553],\n [8547, 8553, 8559],\n [8553, 8559, 8565],\n [8559, 8565, 8571],\n [8565, 8571, 8577],\n [8571, 8577, 8583],\n [8577, 8583, 8589],\n [8583, 8589, 8595],\n [8589, 8595, 8601],\n [8595, 8601, 8937],\n [8601, 8937, 8943],\n [8937, 8943, 8949],\n [8943, 8949, 8955],\n [8949, 8955, 8961],\n [8955, 8961, 8967],\n [8961, 8967, 8973],\n [8967, 8973, 8979],\n [8973, 8979, 8985],\n [8979, 8985, 8991],\n [8985, 8991, 8997],\n [8991, 8997, 9003],\n [8997, 9003, 9009],\n [9003, 9009, 9015],\n [9009, 9015, 9021],\n [9015, 9021, 9027],\n [9021, 9027, 9033],\n [9027, 9033, 9039],\n [9033, 9039, 9045],\n [9039, 9045, 9051],\n [9045, 9051, 9057],\n [9051, 9057, 9063],\n [9057, 9063, 9069],\n [9063, 9069, 9075],\n [9069, 9075, 9081],\n [9075, 9081, 9087],\n [9081, 9087, 9093],\n [9087, 9093, 9099],\n [9093, 9099, 9105],\n [9099, 9105, 9111],\n [9105, 9111, 9117],\n [9111, 9117, 9123],\n [9117, 9123, 9129],\n [9123, 9129, 9135],\n [9129, 9135, 9141],\n [9135, 9141, 9195],\n [9141, 9195, 9213],\n [9195, 9213, 9219],\n [9213, 9219, 9225],\n [9219, 9225, 9231],\n [9225, 9231, 9237],\n [9231, 9237, 9303],\n [9237, 9303, 9309],\n [9303, 9309, 9315],\n [9309, 9315, 9321],\n [9315, 9321, 9327],\n [9321, 9327, 9333],\n [9327, 9333, 9339],\n [9333, 9339, 9345],\n [9339, 9345, 9351],\n [9345, 9351, 9357],\n [9351, 9357, 9417],\n [9357, 9417, 9423],\n [9417, 9423, 9429],\n [9423, 9429, 9435],\n [9429, 9435, 9525],\n [9435, 9525, 9531],\n [9525, 9531, 9627],\n [9531, 9627, 9633],\n [9627, 9633, 9639],\n [9633, 9639, 9675],\n [9639, 9675, 9681],\n [9675, 9681, 9687],\n [9681, 9687, 9693],\n [9687, 9693, 9699],\n [9693, 9699, 9705],\n [9699, 9705, 9711],\n [9705, 9711, 9717],\n [9711, 9717, 9723],\n [9717, 9723, 9729],\n [9723, 9729, 9825],\n [9729, 9825, 9831],\n [9825, 9831, 9837],\n [9831, 9837, 9843],\n [9837, 9843, 9849],\n [9843, 9849, 9855],\n [9849, 9855, 9861],\n [9855, 9861, 9867],\n [9861, 9867, 9873],\n [9867, 9873, 9879],\n [9873, 9879, 9885],\n [9879, 9885, 9891],\n [9885, 9891, 9897],\n [9891, 9897, 9903],\n [9897, 9903, 9915],\n [9903, 9915, 9921],\n [9915, 9921, 9927],\n [9921, 9927, 9933],\n [9927, 9933, 9939],\n [9933, 9939, 9945],\n [9939, 9945, 9951],\n [9945, 9951, 9957],\n [9951, 9957, 9963],\n [9957, 9963, 9969],\n [9963, 9969, 9975],\n [9969, 9975, 9981],\n [9975, 9981, 9987],\n [9981, 9987, 9993],\n [9987, 9993, 9999],\n [9993, 9999, 10005],\n [9999, 10005, 10011],\n [10005, 10011, 10017],\n [10011, 10017, 10023],\n [10017, 10023, 10029],\n [10023, 10029, 10035],\n [10029, 10035, 10197],\n [10035, 10197, 10203],\n [10197, 10203, 10209],\n [10203, 10209, 10215],\n [10209, 10215, 10221],\n [10215, 10221, 10227],\n [10221, 10227, 10233],\n [10227, 10233, 10239],\n [10233, 10239, 10245],\n [10239, 10245, 10251],\n [10245, 10251, 10257],\n [10251, 10257, 10263],\n [10257, 10263, 10269],\n [10263, 10269, 10275],\n [10269, 10275, 10281],\n [10275, 10281, 10287],\n [10281, 10287, 10293],\n [10287, 10293, 10299],\n [10293, 10299, 10305],\n [10299, 10305, 10311],\n [10305, 10311, 10317],\n [10311, 10317, 10323],\n [10317, 10323, 10329],\n [10323, 10329, 10335],\n [10329, 10335, 10341],\n [10335, 10341, 10347],\n [10341, 10347, 10353],\n [10347, 10353, 10359],\n [10353, 10359, 10365],\n [10359, 10365, 10371],\n [10365, 10371, 10377],\n [10371, 10377, 10383],\n [10377, 10383, 10389],\n [10383, 10389, 10395],\n [10389, 10395, 10401],\n [10395, 10401, 10407],\n [10401, 10407, 10413],\n [10407, 10413, 10419],\n [10413, 10419, 10425],\n [10419, 10425, 10431],\n [10425, 10431, 10437],\n [10431, 10437, 10443],\n [10437, 10443, 10449],\n [10443, 10449, 10455],\n [10449, 10455, 10461],\n [10455, 10461, 10467],\n [10461, 10467, 10473],\n [10467, 10473, 10479],\n [10473, 10479, 10485],\n [10479, 10485, 10491],\n [10485, 10491, 10497],\n [10491, 10497, 10503],\n [10497, 10503, 10509],\n [10503, 10509, 10515],\n [10509, 10515, 10521],\n [10515, 10521, 10527],\n [10521, 10527, 10665],\n [10527, 10665, 10671],\n [10665, 10671, 10677],\n [10671, 10677, 10683],\n [10677, 10683, 10689],\n [10683, 10689, 10695],\n [10689, 10695, 10701],\n [10695, 10701, 10707],\n [10701, 10707, 10713],\n [10707, 10713, 10719],\n [10713, 10719, 10725],\n [10719, 10725, 10731],\n [10725, 10731, 10737],\n [10731, 10737, 10743],\n [10737, 10743, 10749],\n [10743, 10749, 10755],\n [10749, 10755, 10761],\n [10755, 10761, 10779],\n [10761, 10779, 10785],\n [10779, 10785, 10791],\n [10785, 10791, 10797],\n [10791, 10797, 10803],\n [10797, 10803, 10809],\n [10803, 10809, 10815],\n [10809, 10815, 10821],\n [10815, 10821, 10827],\n [10821, 10827, 10833],\n [10827, 10833, 10839],\n [10833, 10839, 10845],\n [10839, 10845, 10851],\n [10845, 10851, 10857],\n [10851, 10857, 10863],\n [10857, 10863, 10869],\n [10863, 10869, 10875],\n [10869, 10875, 10881],\n [10875, 10881, 10887],\n [10881, 10887, 10893],\n [10887, 10893, 10899],\n [10893, 10899, 10905],\n [10899, 10905, 10911],\n [10905, 10911, 10917],\n [10911, 10917, 10923],\n [10917, 10923, 11283],\n [10923, 11283, 11289],\n [11283, 11289, 11295],\n [11289, 11295, 11301],\n [11295, 11301, 11307],\n [11301, 11307, 11313],\n [11307, 11313, 11319],\n [11313, 11319, 11325],\n [11319, 11325, 11331],\n [11325, 11331, 11337],\n [11331, 11337, 11343],\n [11337, 11343, 11349],\n [11343, 11349, 11355],\n [11349, 11355, 11361],\n [11355, 11361, 11367],\n [11361, 11367, 11373],\n [11367, 11373, 11379],\n [11373, 11379, 11385],\n [11379, 11385, 11391],\n [11385, 11391, 11397],\n [11391, 11397, 11403],\n [11397, 11403, 11409],\n [11403, 11409, 11415],\n [11409, 11415, 11421],\n [11415, 11421, 11427],\n [11421, 11427, 11433],\n [11427, 11433, 11439],\n [11433, 11439, 11445],\n [11439, 11445, 11451],\n [11445, 11451, 11457],\n [11451, 11457, 11463],\n [11457, 11463, 11469],\n [11463, 11469, 11475],\n [11469, 11475, 11481],\n [11475, 11481, 11487],\n [11481, 11487, 11493],\n [11487, 11493, 11499],\n [11493, 11499, 11883],\n [11499, 11883, 11889],\n [11883, 11889, 11895],\n [11889, 11895, 11901],\n [11895, 11901, 11907],\n [11901, 11907, 11913],\n [11907, 11913, 11919],\n [11913, 11919, 11925],\n [11919, 11925, 11931],\n [11925, 11931, 11937],\n [11931, 11937, 11943],\n [11937, 11943, 11949],\n [11943, 11949, 11955],\n [11949, 11955, 11961],\n [11955, 11961, 11967],\n [11961, 11967, 11973],\n [11967, 11973, 11979],\n [11973, 11979, 11985],\n [11979, 11985, 11991],\n [11985, 11991, 11997],\n [11991, 11997, 12003],\n [11997, 12003, 12009],\n [12003, 12009, 12015],\n [12009, 12015, 12021],\n [12015, 12021, 12027],\n [12021, 12027, 12033],\n [12027, 12033, 12039],\n [12033, 12039, 12045],\n [12039, 12045, 12051],\n [12045, 12051, 12057],\n [12051, 12057, 12063],\n [12057, 12063, 12069],\n [12063, 12069, 12075],\n [12069, 12075, 12081],\n [12075, 12081, 12087],\n [12081, 12087, 12093],\n [12087, 12093, 12099],\n [12093, 12099, 12105],\n [12099, 12105, 12111],\n [12105, 12111, 12117],\n [12111, 12117, 12123],\n [12117, 12123, 12129],\n [12123, 12129, 12219],\n [12129, 12219, 12243],\n [12219, 12243, 12249],\n [12243, 12249, 12255],\n [12249, 12255, 12261],\n [12255, 12261, 12267],\n [12261, 12267, 12273],\n [12267, 12273, 12279],\n [12273, 12279, 12285],\n [12279, 12285, 12291],\n [12285, 12291, 12297],\n [12291, 12297, 12303],\n [12297, 12303, 12309],\n [12303, 12309, 12315],\n [12309, 12315, 12321],\n [12315, 12321, 12327],\n [12321, 12327, 12333],\n [12327, 12333, 12339],\n [12333, 12339, 12345],\n [12339, 12345, 12351],\n [12345, 12351, 12357]]"
     },
     "execution_count": 14,
     "metadata": {},
     "output_type": "execute_result"
    }
   ],
   "source": [
    "frame_ids = agent_sets.frame_id.values\n",
    "consecutive_frames = 3 # change this for longer trajectory\n",
    "frame_id_combs = [list(frame_ids[i:i+consecutive_frames]) for i, frame_id in enumerate(frame_ids[:-consecutive_frames])]\n",
    "frame_id_combs"
   ],
   "metadata": {
    "collapsed": false
   }
  },
  {
   "cell_type": "code",
   "execution_count": 16,
   "outputs": [
    {
     "data": {
      "text/plain": "[5, 4, 3, 2, 6, 7, 8]"
     },
     "execution_count": 16,
     "metadata": {},
     "output_type": "execute_result"
    }
   ],
   "source": [
    "agent_sets[agent_sets['frame_id'] == 984]['agents'].iloc[0]"
   ],
   "metadata": {
    "collapsed": false
   }
  },
  {
   "cell_type": "code",
   "execution_count": null,
   "outputs": [],
   "source": [
    "combs = []\n",
    "for frames in frame_id_combs:\n",
    "    comb_dict = {}\n",
    "    agent_list = [set(agent_sets[agent_sets['frame_id'] == frame]['agents'].iloc[0]) for frame in frames]\n",
    "    comb_dict['frames'] = frames\n",
    "    comb_dict['common_agents'] = set.intersection(*agent_list)\n",
    "    comb_dict['total_agents'] = set.union(*agent_list)\n",
    "    print('common agents: {}, common agents/total agents: {}/{}'.format(comb_dict['common_agents'], len(comb_dict['common_agents']), len(comb_dict['total_agents'])))\n",
    "    combs.append(comb_dict)\n",
    "combs[1000]"
   ],
   "metadata": {
    "collapsed": false
   }
  },
  {
   "cell_type": "markdown",
   "source": [
    "time window 1 frame"
   ],
   "metadata": {
    "collapsed": false
   }
  },
  {
   "cell_type": "code",
   "execution_count": null,
   "outputs": [],
   "source": [
    "# TODO check number of data when time window is 1 frame"
   ],
   "metadata": {
    "collapsed": false
   }
  },
  {
   "cell_type": "markdown",
   "source": [
    "time window X frames"
   ],
   "metadata": {
    "collapsed": false
   }
  },
  {
   "cell_type": "code",
   "execution_count": null,
   "outputs": [],
   "source": [
    "# TODO check number of data when time window is X frame"
   ],
   "metadata": {
    "collapsed": false
   }
  }
 ],
 "metadata": {
  "kernelspec": {
   "display_name": "Python 3",
   "language": "python",
   "name": "python3"
  },
  "language_info": {
   "codemirror_mode": {
    "name": "ipython",
    "version": 2
   },
   "file_extension": ".py",
   "mimetype": "text/x-python",
   "name": "python",
   "nbconvert_exporter": "python",
   "pygments_lexer": "ipython2",
   "version": "2.7.6"
  }
 },
 "nbformat": 4,
 "nbformat_minor": 0
}
